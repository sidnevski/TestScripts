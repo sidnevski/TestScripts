{
 "cells": [
  {
   "cell_type": "code",
   "execution_count": 1,
   "id": "15480951",
   "metadata": {
    "scrolled": true
   },
   "outputs": [],
   "source": [
    "import pandas as pd\n",
    "from tqdm import tqdm\n",
    "import os\n",
    "import numpy as np\n",
    "from pathlib import Path\n",
    "import csv\n",
    "import random\n",
    "\n",
    "from sklearn.model_selection import train_test_split\n",
    "from sklearn.model_selection import KFold\n",
    "from sklearn.model_selection import GridSearchCV\n",
    "from sklearn.model_selection import RandomizedSearchCV\n",
    "from sklearn.model_selection import cross_val_score\n",
    "\n",
    "from sklearn.tree import DecisionTreeRegressor\n",
    "from sklearn.ensemble import RandomForestRegressor\n",
    "from sklearn.ensemble import GradientBoostingRegressor\n",
    "# import lightgbm as lgb\n",
    "\n",
    "from sklearn.metrics import (precision_score, recall_score, roc_auc_score, accuracy_score, mean_squared_error,\n",
    "                             confusion_matrix, precision_recall_curve, roc_curve, brier_score_loss)\n",
    "\n",
    "from scipy.stats import uniform as sp_randFloat\n",
    "from scipy.stats import randint as sp_randInt"
   ]
  },
  {
   "cell_type": "code",
   "execution_count": null,
   "id": "175a09e4-13a1-4a1e-9bdf-0236d81924d0",
   "metadata": {},
   "outputs": [],
   "source": [
    "columns_drop = {\n",
    "    \"Facebook_data\": None,\n",
    "    \"Features_TestSet\": None,\n",
    "    \"House_Price_Adv_Regression\": ['Id'],\n",
    "    \"Instant_Liking\": None,\n",
    "    \"Insurance\": None,\n",
    "    \"Isolet\": None,\n",
    "    \"new_data_trans\": None,\n",
    "    \"OnlineNewsPopularity\": None,\n",
    "    \"ParkinsonData\": ['subject.'],\n",
    "    \"Sberbank_Russian_Housing_Market\": ['id'],\n",
    "    \"slice_localization_data\": None,\n",
    "    \"Telecom_data\": ['Phone.Number'],\n",
    "    \"yearMSD_new\": None,\n",
    "    \"arrhythmia\": None,\n",
    "    \"Big_mart_sales\": ['Item_Identifier', 'Outlet_Identifier', 'Outlet_Establishment_Year'],\n",
    "    \"blogData\": None,\n",
    "    \"communities\": ['x4', 'x1'],\n",
    "    \"dengue_features\": ['year', 'weekofyear', 'week_start_date'],\n",
    "    \"ECG0_p02\": None,\n",
    "    \"ENERGY_DATA_COMPLETE\": None\n",
    "}\n",
    "\n",
    "fill_na = {\n",
    "    \"Facebook_data\": False,\n",
    "    \"Features_TestSet\": False,\n",
    "    \"House_Price_Adv_Regression\": False,\n",
    "    \"Instant_Liking\": False,\n",
    "    \"Insurance\": False,\n",
    "    \"Isolet\": False,\n",
    "    \"new_data_trans\": False,\n",
    "    \"OnlineNewsPopularity\": False,\n",
    "    \"ParkinsonData\": False,\n",
    "    \"Sberbank_Russian_Housing_Market\": False,\n",
    "    \"slice_localization_data\": False,\n",
    "    \"Telecom_data\": False,\n",
    "    \"yearMSD_new\": False,\n",
    "    \"arrhythmia\": False,\n",
    "    \"Big_mart_sales\": True,\n",
    "    \"blogData\": False,\n",
    "    \"communities\": False,\n",
    "    \"dengue_features\": False,\n",
    "    \"ECG0_p02\": False,\n",
    "    \"ENERGY_DATA_COMPLETE\": False\n",
    "}\n",
    "\n",
    "fill_na_column = {\n",
    "    \"Facebook_data\": [],\n",
    "    \"Features_TestSet\": [],\n",
    "    \"House_Price_Adv_Regression\": [],\n",
    "    \"Instant_Liking\": [],\n",
    "    \"Insurance\": [],\n",
    "    \"Isolet\": [],\n",
    "    \"new_data_trans\": [],\n",
    "    \"OnlineNewsPopularity\": [],\n",
    "    \"ParkinsonData\": [],\n",
    "    \"Sberbank_Russian_Housing_Market\": [],\n",
    "    \"slice_localization_data\": [],\n",
    "    \"Telecom_data\": [],\n",
    "    \"yearMSD_new\": [],\n",
    "    \"arrhythmia\": [],\n",
    "    \"Big_mart_sales\": ['Outlet_Size'],\n",
    "    \"blogData\": [],\n",
    "    \"communities\": [],\n",
    "    \"dengue_features\": [],\n",
    "    \"ECG0_p02\": [],\n",
    "    \"ENERGY_DATA_COMPLETE\": [],\n",
    "}\n",
    "\n",
    "def process_dataset(df_train, df_test, columns_drop, fill_na, fill_na_columns):    \n",
    "    df_total = pd.concat([df_train, df_test], axis=0)\n",
    "    tar = df_total.iloc[:, -1]\n",
    "    df_total = df_total.iloc[:, :-1]\n",
    "    \n",
    "    if fill_na:\n",
    "        for column in fill_na_columns:\n",
    "            df_total[column].fillna(\"NOT_PRESENT\", inplace=True)\n",
    "    \n",
    "    if columns_drop:\n",
    "        df_total = df_total.drop(columns_drop, axis='columns')\n",
    "    \n",
    "    cat = df_total.select_dtypes(include=['object']).columns.to_list()\n",
    "    df_total = pd.get_dummies(df_total, cat)\n",
    "    \n",
    "    df_total = pd.concat([df_total, tar], axis=1)\n",
    "    df_train = df_total.iloc[:df_train.shape[0],:]\n",
    "    df_test = df_total.iloc[df_train.shape[0]:,:]\n",
    "    \n",
    "    return df_train, df_test\n",
    "\n",
    "data_dir = \"/home/asim/ssriva59/setup-stuff/gateway_and_dataset\"\n",
    "datasets = [\n",
    "    # \"Facebook_data\",\n",
    "    # \"Features_TestSet\",\n",
    "    # \"House_Price_Adv_Regression\",\n",
    "    # \"Instant_Liking\",\n",
    "    # \"Insurance\",\n",
    "    \"Isolet\",\n",
    "    # \"new_data_trans\",\n",
    "    # \"OnlineNewsPopularity\",\n",
    "    # \"ParkinsonData\",\n",
    "    # \"Sberbank_Russian_Housing_Market\",\n",
    "    # \"slice_localization_data\",\n",
    "    # \"Telecom_data\",\n",
    "    # \"yearMSD_new\",\n",
    "    # \"arrhythmia\",\n",
    "    # \"Big_mart_sales\",\n",
    "    # \"blogData\",\n",
    "    # \"communities\",\n",
    "    # \"dengue_features\",\n",
    "    # \"ECG0_p02\",\n",
    "    # \"ENERGY_DATA_COMPLETE\"\n",
    "]\n",
    "\n",
    "# Fill missing for Instant_Liking\n",
    "\n",
    "seeds = [1, 50, 100, 150, 200, 250, 300, 350, 400, 450]\n",
    "\n",
    "for index, dataset in enumerate(datasets):\n",
    "    print(dataset)\n",
    "    for seed in tqdm(seeds):\n",
    "        csv_path_train = os.path.join(data_dir, dataset, \"Train\", dataset + '_Train_seed' + str(seed) + '.csv')\n",
    "        df_train = pd.read_csv(csv_path_train)\n",
    "        \n",
    "        csv_path_test = os.path.join(data_dir, dataset, \"Test\", dataset + '_Test_seed' + str(seed) + '.csv')\n",
    "        df_test = pd.read_csv(csv_path_test)\n",
    "        \n",
    "        df_train, df_test = process_dataset(df_train, df_test, columns_drop[dataset], fill_na[dataset], fill_na_column[dataset])\n",
    "        df_train.to_csv(os.path.join(data_dir, dataset, \"Train\", dataset + '_Train_seed' + str(seed) + '_modified.csv'), index=False)\n",
    "        df_test.to_csv(os.path.join(data_dir, dataset, \"Test\", dataset + '_Test_seed' + str(seed) + '_modified.csv'), index=False)"
   ]
  },
  {
   "cell_type": "code",
   "execution_count": null,
   "id": "5968f880",
   "metadata": {},
   "outputs": [],
   "source": [
    "# Specifically for big mart dataset\n",
    "def process_big_mart(df_train):\n",
    "    df_train['Outlet_Size'].fillna(\"NOT_PRESENT\", inplace=True)\n",
    "    \n",
    "    df_train = df_train.drop(['Item_Identifier', 'Item_Type', 'Outlet_Size', 'Outlet_Location_Type', 'Outlet_Type', 'Item_Outlet_Sales'], axis='columns')\n",
    "    \n",
    "    dummies = pd.get_dummies(df_train.Item_Fat_Content)\n",
    "    df_train = pd.concat([df_train, dummies], axis='columns')\n",
    "    dummies = pd.get_dummies(df_train.Item_Type)\n",
    "    df_train = pd.concat([df_train, dummies], axis='columns')\n",
    "    dummies = pd.get_dummies(df_train.Outlet_Size)\n",
    "    df_train = pd.concat([df_train, dummies], axis='columns')\n",
    "    dummies = pd.get_dummies(df_train.Outlet_Location_Type)\n",
    "    df_train = pd.concat([df_train, dummies], axis='columns')\n",
    "    dummies = pd.get_dummies(df_train.Outlet_Type)\n",
    "    df_train = pd.concat([df_train, dummies], axis='columns')\n",
    "    df_train['Item_Outlet_Sales_Log'] = np.log(df_train['Item_Outlet_Sales'])\n",
    "    return df_train\n",
    "\n",
    "def get_missing():\n",
    "    missingValueColumns = datafrm.columns[datafrm.isnull().any()].tolist()\n",
    "    percent_missing = datafrm[missingValueColumns].isnull().sum()\n",
    "    print(\"Missing value count columnwise:\")\n",
    "    print(percent_missing)\n",
    "\n",
    "\n",
    "\n",
    "data_dir = \"/home/asim/ssriva59/setup-stuff/gateway_and_dataset\"\n",
    "dataset = \"Big_mart_sales\"\n",
    "\n",
    "seeds = [1, 50, 100, 150, 200, 250, 300, 350, 400, 450]\n",
    "for s in tqdm(seeds):\n",
    "    csv_path_train = os.path.join(data_dir, dataset, \"Train\", dataset + '_Train_seed' + str(s) + '.csv')\n",
    "    df_train = pd.read_csv(csv_path_train)\n",
    "    csv_path_test = os.path.join(data_dir, dataset, \"Test\", dataset + '_Test_seed' + str(s) + '.csv')\n",
    "    df_test = pd.read_csv(csv_path_test)\n",
    "    \n",
    "    df_train = process_big_mart(df_train)\n",
    "    df_test = process_big_mart(df_test)\n",
    "    df_train.to_csv(os.path.join(data_dir, dataset, \"Train\", dataset + '_Train_seed' + str(s) + '_modified.csv'), index=False)\n",
    "    df_test.to_csv(os.path.join(data_dir, dataset, \"Test\", dataset + '_Test_seed' + str(s) + '_modified.csv'), index=False)\n",
    "    "
   ]
  },
  {
   "cell_type": "code",
   "execution_count": null,
   "id": "8b8c13a0",
   "metadata": {},
   "outputs": [],
   "source": [
    "def RF_pred_kfold(X, y, details=None):\n",
    "    \n",
    "    # Build models with hyperparameters sets\n",
    "    RSC = RandomizedSearchCV(\n",
    "        estimator=RandomForestRegressor(),\n",
    "        param_distributions={\n",
    "            'n_estimators': range(1, 200, 10),\n",
    "            'max_depth': range(1, 100, 10),\n",
    "            'max_features': ['auto', 'sqrt', 'log2']}, cv=5, scoring='neg_root_mean_squared_error', n_jobs=-1)\n",
    "    \n",
    "    # Fit RandomizedSearchCV to find best hyperparameters\n",
    "    search_result = RSC.fit(X, y.values.ravel())\n",
    "    print(\"Best using: \", search_result.best_params_, \"Score: \", search_result.best_score_)\n",
    "\n",
    "    # Build models with optimized hyperparameters\n",
    "    model_RF = RandomForestRegressor(\n",
    "        n_estimators=search_result.best_params_[\"n_estimators\"],\n",
    "        max_depth=search_result.best_params_[\"max_depth\"],\n",
    "        max_features=search_result.best_params_[\"max_features\"]\n",
    "    )\n",
    "    \n",
    "\n",
    "    # Split dataset into 5 consecutive folds\n",
    "    kf = KFold(n_splits=5, shuffle=True, random_state=None)\n",
    "    \n",
    "    i = 1\n",
    "    for train, test in kf.split(X):\n",
    "        X_train = X.iloc[train,:]\n",
    "        y_train = y.iloc[train,:]\n",
    "        X_test = X.iloc[test]\n",
    "        y_test = y.iloc[test]\n",
    "        model_RF.fit(X_train, y_train.values.ravel())\n",
    "        train_pred = model_RF.predict(X_train)\n",
    "        y_pred = model_RF.predict(X_test)\n",
    "        \n",
    "#         train_accuracy = accuracy_score(y_train, train_pred)\n",
    "#         train_precision = precision_score(y_train, train_pred)\n",
    "#         train_recall = recall_score(y_train, train_pred)\n",
    "#         train_auc = roc_auc_score(y_train, train_pred)\n",
    "        train_rmse = mean_squared_error(y_train, train_pred, squared=False)\n",
    "        \n",
    "#         test_accuracy = accuracy_score(y_test, y_pred)\n",
    "#         test_precision = precision_score(y_test, y_pred)\n",
    "#         test_recall = recall_score(y_test, y_pred)\n",
    "#         test_auc = roc_auc_score(y_test, y_pred)\n",
    "        test_rmse = mean_squared_error(y_test, y_pred, squared=False)\n",
    "        \n",
    "        details['fold'] = str(i)\n",
    "        details['training_rmse'] = train_rmse\n",
    "        details['testing_rmse'] = test_rmse\n",
    "        \n",
    "        print('Fold '+ str(i), ':  Training RMSE: ', train_rmse, 'Testing RMSE: ', test_rmse)\n",
    "#         print('Fold '+ str(i), ':  Training precision: ', train_precision, 'Testing precision: ', test_precision)\n",
    "#         print('Fold '+ str(i), ':  Training recall: ', train_recall, 'Testing accuracy: ', test_recall)\n",
    "#         print('Fold '+ str(i), ':  Training auc: ', train_auc, 'Testing auc: ', test_auc)\n",
    "        \n",
    "        i += 1\n",
    "\n",
    "    return model_RF"
   ]
  },
  {
   "cell_type": "code",
   "execution_count": null,
   "id": "a487ef69",
   "metadata": {},
   "outputs": [],
   "source": [
    "# Decision Tree module\n",
    "def DT_pred(train_path, validation_path, train_column_drop, validation_column, details=None):\n",
    "    \n",
    "    df_train = pd.read_csv(train_path)\n",
    "    df_validation = pd.read_csv(validation_path)\n",
    "    \n",
    "    X = df_train.drop(train_column_drop, axis = 1)\n",
    "    y = df_train[validation_column]\n",
    "    \n",
    "    X_validation = df_validation.drop(train_column_drop, axis = 1)\n",
    "    y_validation = df_validation[validation_column]\n",
    "    \n",
    "    # Build models with hyperparameters sets\n",
    "    RSC = RandomizedSearchCV(\n",
    "        estimator=DecisionTreeRegressor(),\n",
    "        param_distributions={\n",
    "            'criterion': ['squared_error'],\n",
    "            'max_depth': range(1, 100, 10),\n",
    "            'max_features': ['auto', 'sqrt', 'log2']}, \n",
    "        cv=5, scoring='neg_root_mean_squared_error', n_jobs=-1, verbose = True)\n",
    "    \n",
    "    # Fit RandomizedSearchCV to find best hyperparameters\n",
    "    search_result = RSC.fit(X, y.values.ravel())\n",
    "    print(\"Best using: \", search_result.best_params_, \"Score: \", search_result.best_score_)\n",
    "\n",
    "    # Build models with optimized hyperparameters\n",
    "    model_DT = DecisionTreeRegressor(\n",
    "        criterion=search_result.best_params_[\"criterion\"],\n",
    "        max_depth=search_result.best_params_[\"max_depth\"],\n",
    "        max_features=search_result.best_params_[\"max_features\"])\n",
    "\n",
    "    model_DT.fit(X, y.values.ravel())\n",
    "    train_pred = model_DT.predict(X)\n",
    "    y_pred = model_DT.predict(X_validation)\n",
    "\n",
    "#         train_accuracy = accuracy_score(y_train, train_pred)\n",
    "#         train_precision = precision_score(y_train, train_pred)\n",
    "#         train_recall = recall_score(y_train, train_pred)\n",
    "#         train_auc = roc_auc_score(y_train, train_pred)\n",
    "    train_rmse = mean_squared_error(y, train_pred, squared=False)\n",
    "\n",
    "#         test_accuracy = accuracy_score(y_test, y_pred)\n",
    "#         test_precision = precision_score(y_test, y_pred)\n",
    "#         test_recall = recall_score(y_test, y_pred)\n",
    "#         test_auc = roc_auc_score(y_test, y_pred)\n",
    "    test_rmse = mean_squared_error(y_validation, y_pred, squared=False)\n",
    "\n",
    "    details['training_rmse'] = train_rmse\n",
    "    details['testing_rmse'] = test_rmse\n",
    "\n",
    "    print('Training RMSE: ', train_rmse, 'Testing RMSE: ', test_rmse)\n",
    "#         print('Fold '+ str(i), ':  Training precision: ', train_precision, 'Testing precision: ', test_precision)\n",
    "#         print('Fold '+ str(i), ':  Training recall: ', train_recall, 'Testing accuracy: ', test_recall)\n",
    "#         print('Fold '+ str(i), ':  Training auc: ', train_auc, 'Testing auc: ', test_auc)\n",
    "\n",
    "    return model_DT"
   ]
  },
  {
   "cell_type": "code",
   "execution_count": null,
   "id": "a6b164bd-0dc7-40c7-853a-1d84c1bed833",
   "metadata": {},
   "outputs": [],
   "source": [
    "# Random Forest Module\n",
    "def RF_pred(train_path, validation_path, train_column_drop, validation_column, details=None):\n",
    "    \n",
    "    df_train = pd.read_csv(train_path)\n",
    "    df_validation = pd.read_csv(validation_path)\n",
    "    \n",
    "    X = df_train.drop(train_column_drop, axis = 1)\n",
    "    y = df_train[validation_column]\n",
    "    \n",
    "    X_validation = df_validation.drop(train_column_drop, axis = 1)\n",
    "    y_validation = df_validation[validation_column]\n",
    "    \n",
    "    # Build models with hyperparameters sets\n",
    "    RSC = RandomizedSearchCV(\n",
    "        estimator=RandomForestRegressor(),\n",
    "        param_distributions={\n",
    "            'n_estimators': range(1, 200, 10),\n",
    "            'max_depth': range(1, 100, 10),\n",
    "            'max_features': ['auto', 'sqrt', 'log2']}, cv=5, scoring='neg_root_mean_squared_error', n_jobs=-1)\n",
    "    \n",
    "    # Fit RandomizedSearchCV to find best hyperparameters\n",
    "    search_result = RSC.fit(X, y.values.ravel())\n",
    "    print(\"Best using: \", search_result.best_params_, \"Score: \", search_result.best_score_)\n",
    "\n",
    "    # Build models with optimized hyperparameters\n",
    "    model_RF = RandomForestRegressor(\n",
    "        n_estimators=search_result.best_params_[\"n_estimators\"],\n",
    "        max_depth=search_result.best_params_[\"max_depth\"],\n",
    "        max_features=search_result.best_params_[\"max_features\"]\n",
    "    )\n",
    "    \n",
    "    # for train, test in kf.split(X):\n",
    "    model_RF.fit(X, y.values.ravel())\n",
    "    train_pred = model_RF.predict(X)\n",
    "    y_pred = model_RF.predict(X_validation)\n",
    "\n",
    "#         train_accuracy = accuracy_score(y_train, train_pred)\n",
    "#         train_precision = precision_score(y_train, train_pred)\n",
    "#         train_recall = recall_score(y_train, train_pred)\n",
    "#         train_auc = roc_auc_score(y_train, train_pred)\n",
    "    train_rmse = mean_squared_error(y, train_pred, squared=False)\n",
    "\n",
    "#         test_accuracy = accuracy_score(y_test, y_pred)\n",
    "#         test_precision = precision_score(y_test, y_pred)\n",
    "#         test_recall = recall_score(y_test, y_pred)\n",
    "#         test_auc = roc_auc_score(y_test, y_pred)\n",
    "    test_rmse = mean_squared_error(y_validation, y_pred, squared=False)\n",
    "\n",
    "    details['training_rmse'] = train_rmse\n",
    "    details['testing_rmse'] = test_rmse\n",
    "\n",
    "    print('Training RMSE: ', train_rmse, 'Testing RMSE: ', test_rmse)\n",
    "#         print('Fold '+ str(i), ':  Training precision: ', train_precision, 'Testing precision: ', test_precision)\n",
    "#         print('Fold '+ str(i), ':  Training recall: ', train_recall, 'Testing accuracy: ', test_recall)\n",
    "#         print('Fold '+ str(i), ':  Training auc: ', train_auc, 'Testing auc: ', test_auc)\n",
    "\n",
    "    return model_RF"
   ]
  },
  {
   "cell_type": "code",
   "execution_count": 2,
   "id": "04b5c6a4-28ef-475c-a44e-adc5e63ecc6b",
   "metadata": {},
   "outputs": [],
   "source": [
    "# Gradient Boosting Module\n",
    "def GB_pred(train_path, validation_path, train_column_drop, validation_column, details=None):\n",
    "    \n",
    "    df_train = pd.read_csv(train_path)\n",
    "    df_validation = pd.read_csv(validation_path)\n",
    "    \n",
    "    X = df_train.drop(train_column_drop, axis = 1)\n",
    "    y = df_train[validation_column]\n",
    "    \n",
    "    X_validation = df_validation.drop(train_column_drop, axis = 1)\n",
    "    y_validation = df_validation[validation_column]\n",
    "    \n",
    "    # Build models with hyperparameters sets\n",
    "    RSC = RandomizedSearchCV(\n",
    "        estimator=GradientBoostingRegressor(loss='squared_error'),\n",
    "        param_distributions={\n",
    "            'n_estimators': range(1, 200, 10),\n",
    "            'max_depth': range(1, 100, 10),\n",
    "            'max_features': ['auto', 'sqrt', 'log2']\n",
    "        },\n",
    "        cv=5,\n",
    "        scoring='neg_root_mean_squared_error',\n",
    "        n_jobs=-1\n",
    "    )\n",
    "    \n",
    "    # Fit RandomizedSearchCV to find best hyperparameters\n",
    "    search_result = RSC.fit(X, y.values.ravel())\n",
    "    print(\"Best using: \", search_result.best_params_, \"Score: \", search_result.best_score_)\n",
    "\n",
    "    # Build models with optimized hyperparameters\n",
    "    model_GB = GradientBoostingRegressor(\n",
    "        n_estimators=search_result.best_params_[\"n_estimators\"],\n",
    "        max_depth=search_result.best_params_[\"max_depth\"],\n",
    "        max_features=search_result.best_params_[\"max_features\"],\n",
    "        loss='squared_error'\n",
    "    )\n",
    "    \n",
    "    # for train, test in kf.split(X):\n",
    "    model_GB.fit(X, y.values.ravel())\n",
    "    train_pred = model_GB.predict(X)\n",
    "    y_pred = model_GB.predict(X_validation)\n",
    "\n",
    "#         train_accuracy = accuracy_score(y_train, train_pred)\n",
    "#         train_precision = precision_score(y_train, train_pred)\n",
    "#         train_recall = recall_score(y_train, train_pred)\n",
    "#         train_auc = roc_auc_score(y_train, train_pred)\n",
    "    train_rmse = mean_squared_error(y, train_pred, squared=False)\n",
    "\n",
    "#         test_accuracy = accuracy_score(y_test, y_pred)\n",
    "#         test_precision = precision_score(y_test, y_pred)\n",
    "#         test_recall = recall_score(y_test, y_pred)\n",
    "#         test_auc = roc_auc_score(y_test, y_pred)\n",
    "    test_rmse = mean_squared_error(y_validation, y_pred, squared=False)\n",
    "\n",
    "    details['training_rmse'] = train_rmse\n",
    "    details['testing_rmse'] = test_rmse\n",
    "\n",
    "    print('Training RMSE: ', train_rmse, 'Testing RMSE: ', test_rmse)\n",
    "#         print('Fold '+ str(i), ':  Training precision: ', train_precision, 'Testing precision: ', test_precision)\n",
    "#         print('Fold '+ str(i), ':  Training recall: ', train_recall, 'Testing accuracy: ', test_recall)\n",
    "#         print('Fold '+ str(i), ':  Training auc: ', train_auc, 'Testing auc: ', test_auc)\n",
    "\n",
    "    return model_GB"
   ]
  },
  {
   "cell_type": "code",
   "execution_count": 3,
   "id": "2697dbac-be6a-4527-85cf-6fe4b3b98858",
   "metadata": {},
   "outputs": [
    {
     "name": "stdout",
     "output_type": "stream",
     "text": [
      "slice_localization_data\n"
     ]
    },
    {
     "name": "stderr",
     "output_type": "stream",
     "text": [
      "  0%|                                                                                                                                                                                                   | 0/10 [00:00<?, ?it/s]"
     ]
    },
    {
     "name": "stdout",
     "output_type": "stream",
     "text": [
      "Best using:  {'n_estimators': 81, 'max_features': 'sqrt', 'max_depth': 41} Score:  -1.4605271859390634\n",
      "Training RMSE:  0.004411825181726962 Testing RMSE:  1.3941839523525894\n"
     ]
    },
    {
     "name": "stderr",
     "output_type": "stream",
     "text": [
      " 10%|██████████████████▍                                                                                                                                                                     | 1/10 [11:44<1:45:41, 704.60s/it]/home/asim/.local/lib/python3.8/site-packages/joblib/externals/loky/process_executor.py:688: UserWarning: A worker stopped while some jobs were given to the executor. This can be caused by a too short worker timeout or by a memory leak.\n",
      "  warnings.warn(\n"
     ]
    },
    {
     "name": "stdout",
     "output_type": "stream",
     "text": [
      "Best using:  {'n_estimators': 171, 'max_features': 'sqrt', 'max_depth': 61} Score:  -1.3618377913222068\n",
      "Training RMSE:  3.346092648416899e-07 Testing RMSE:  1.2655361691798528\n"
     ]
    },
    {
     "name": "stderr",
     "output_type": "stream",
     "text": [
      " 20%|████████████████████████████████████▊                                                                                                                                                   | 2/10 [22:44<1:30:27, 678.42s/it]/home/asim/.local/lib/python3.8/site-packages/joblib/externals/loky/process_executor.py:688: UserWarning: A worker stopped while some jobs were given to the executor. This can be caused by a too short worker timeout or by a memory leak.\n",
      "  warnings.warn(\n"
     ]
    },
    {
     "name": "stdout",
     "output_type": "stream",
     "text": [
      "Best using:  {'n_estimators': 61, 'max_features': 'sqrt', 'max_depth': 71} Score:  -1.4303982302789708\n",
      "Training RMSE:  0.036090103141837554 Testing RMSE:  1.2831078673625183\n"
     ]
    },
    {
     "name": "stderr",
     "output_type": "stream",
     "text": [
      " 30%|███████████████████████████████████████████████████████▏                                                                                                                                | 3/10 [38:57<1:34:50, 812.90s/it]/home/asim/.local/lib/python3.8/site-packages/joblib/externals/loky/process_executor.py:688: UserWarning: A worker stopped while some jobs were given to the executor. This can be caused by a too short worker timeout or by a memory leak.\n",
      "  warnings.warn(\n"
     ]
    },
    {
     "name": "stdout",
     "output_type": "stream",
     "text": [
      "Best using:  {'n_estimators': 191, 'max_features': 'sqrt', 'max_depth': 61} Score:  -1.427686067500399\n",
      "Training RMSE:  4.279014980036257e-08 Testing RMSE:  1.282096551402688\n"
     ]
    },
    {
     "name": "stderr",
     "output_type": "stream",
     "text": [
      " 40%|█████████████████████████████████████████████████████████████████████████▌                                                                                                              | 4/10 [49:18<1:13:42, 737.14s/it]/home/asim/.local/lib/python3.8/site-packages/joblib/externals/loky/process_executor.py:688: UserWarning: A worker stopped while some jobs were given to the executor. This can be caused by a too short worker timeout or by a memory leak.\n",
      "  warnings.warn(\n"
     ]
    },
    {
     "name": "stdout",
     "output_type": "stream",
     "text": [
      "Best using:  {'n_estimators': 181, 'max_features': 'sqrt', 'max_depth': 31} Score:  -1.3767274125035684\n",
      "Training RMSE:  5.130822939161954e-07 Testing RMSE:  1.2377313155822383\n"
     ]
    },
    {
     "name": "stderr",
     "output_type": "stream",
     "text": [
      " 50%|████████████████████████████████████████████████████████████████████████████████████████████                                                                                            | 5/10 [1:00:15<59:00, 708.10s/it]/home/asim/.local/lib/python3.8/site-packages/joblib/externals/loky/process_executor.py:688: UserWarning: A worker stopped while some jobs were given to the executor. This can be caused by a too short worker timeout or by a memory leak.\n",
      "  warnings.warn(\n"
     ]
    },
    {
     "name": "stdout",
     "output_type": "stream",
     "text": [
      "Best using:  {'n_estimators': 61, 'max_features': 'sqrt', 'max_depth': 31} Score:  -1.4426862532357605\n",
      "Training RMSE:  0.037653821595790185 Testing RMSE:  1.1700328655695489\n"
     ]
    },
    {
     "name": "stderr",
     "output_type": "stream",
     "text": [
      " 60%|████████████████████████████████████████████████████████████████████████████████████████████████████████████▌                                                                        | 6/10 [1:26:43<1:07:09, 1007.44s/it]"
     ]
    },
    {
     "name": "stdout",
     "output_type": "stream",
     "text": [
      "Best using:  {'n_estimators': 101, 'max_features': 'log2', 'max_depth': 21} Score:  -1.585558753128107\n",
      "Training RMSE:  0.021546864704635803 Testing RMSE:  1.4620329685133389\n"
     ]
    },
    {
     "name": "stderr",
     "output_type": "stream",
     "text": [
      " 70%|████████████████████████████████████████████████████████████████████████████████████████████████████████████████████████████████                                                       | 7/10 [1:44:02<50:53, 1017.83s/it]/home/asim/.local/lib/python3.8/site-packages/joblib/externals/loky/process_executor.py:688: UserWarning: A worker stopped while some jobs were given to the executor. This can be caused by a too short worker timeout or by a memory leak.\n",
      "  warnings.warn(\n"
     ]
    },
    {
     "name": "stdout",
     "output_type": "stream",
     "text": [
      "Best using:  {'n_estimators': 111, 'max_features': 'sqrt', 'max_depth': 61} Score:  -1.4306112191471438\n",
      "Training RMSE:  0.00018576059241402873 Testing RMSE:  1.3624509117749792\n"
     ]
    },
    {
     "name": "stderr",
     "output_type": "stream",
     "text": [
      " 80%|██████████████████████████████████████████████████████████████████████████████████████████████████████████████████████████████████████████████████▍                                    | 8/10 [2:17:45<44:35, 1337.83s/it]"
     ]
    },
    {
     "name": "stdout",
     "output_type": "stream",
     "text": [
      "Best using:  {'n_estimators': 71, 'max_features': 'sqrt', 'max_depth': 71} Score:  -1.4028321300828765\n",
      "Training RMSE:  0.012587089575594908 Testing RMSE:  1.3561418414053734\n"
     ]
    },
    {
     "name": "stderr",
     "output_type": "stream",
     "text": [
      " 90%|████████████████████████████████████████████████████████████████████████████████████████████████████████████████████████████████████████████████████████████████████▋                  | 9/10 [2:24:07<17:18, 1038.73s/it]"
     ]
    },
    {
     "name": "stdout",
     "output_type": "stream",
     "text": [
      "Best using:  {'n_estimators': 71, 'max_features': 'sqrt', 'max_depth': 51} Score:  -1.416531621001654\n",
      "Training RMSE:  0.012604405621719475 Testing RMSE:  1.2572592738208974\n"
     ]
    },
    {
     "name": "stderr",
     "output_type": "stream",
     "text": [
      "100%|██████████████████████████████████████████████████████████████████████████████████████████████████████████████████████████████████████████████████████████████████████████████████████| 10/10 [2:46:51<00:00, 1001.13s/it]\n"
     ]
    },
    {
     "name": "stdout",
     "output_type": "stream",
     "text": [
      "Telecom_data\n"
     ]
    },
    {
     "name": "stderr",
     "output_type": "stream",
     "text": [
      " 10%|██████████████████▋                                                                                                                                                                        | 1/10 [00:10<01:36, 10.69s/it]"
     ]
    },
    {
     "name": "stdout",
     "output_type": "stream",
     "text": [
      "Best using:  {'n_estimators': 51, 'max_features': 'sqrt', 'max_depth': 11} Score:  -0.23884801124104849\n",
      "Training RMSE:  0.030279504840548168 Testing RMSE:  0.22933703982509188\n",
      "Best using:  {'n_estimators': 101, 'max_features': 'sqrt', 'max_depth': 91} Score:  -0.23335972968475827\n"
     ]
    },
    {
     "name": "stderr",
     "output_type": "stream",
     "text": [
      " 20%|█████████████████████████████████████▍                                                                                                                                                     | 2/10 [00:20<01:19,  9.98s/it]"
     ]
    },
    {
     "name": "stdout",
     "output_type": "stream",
     "text": [
      "Training RMSE:  8.208851107148051e-06 Testing RMSE:  0.2470618415846807\n",
      "Best using:  {'n_estimators': 161, 'max_features': 'sqrt', 'max_depth': 21} Score:  -0.2480077939809934\n"
     ]
    },
    {
     "name": "stderr",
     "output_type": "stream",
     "text": [
      " 30%|████████████████████████████████████████████████████████                                                                                                                                   | 3/10 [00:29<01:09,  9.90s/it]"
     ]
    },
    {
     "name": "stdout",
     "output_type": "stream",
     "text": [
      "Training RMSE:  6.96627292795556e-07 Testing RMSE:  0.21362907798464992\n"
     ]
    },
    {
     "name": "stderr",
     "output_type": "stream",
     "text": [
      " 40%|██████████████████████████████████████████████████████████████████████████▊                                                                                                                | 4/10 [00:35<00:48,  8.07s/it]"
     ]
    },
    {
     "name": "stdout",
     "output_type": "stream",
     "text": [
      "Best using:  {'n_estimators': 51, 'max_features': 'sqrt', 'max_depth': 11} Score:  -0.23933950897665848\n",
      "Training RMSE:  0.032264678748646455 Testing RMSE:  0.24354415388412892\n",
      "Best using:  {'n_estimators': 71, 'max_features': 'sqrt', 'max_depth': 11} Score:  -0.2334614307838776\n",
      "Training RMSE:  0.015006553902578405 Testing RMSE:  0.2275244180337624\n"
     ]
    },
    {
     "name": "stderr",
     "output_type": "stream",
     "text": [
      " 60%|████████████████████████████████████████████████████████████████████████████████████████████████████████████████▏                                                                          | 6/10 [00:46<00:27,  6.87s/it]"
     ]
    },
    {
     "name": "stdout",
     "output_type": "stream",
     "text": [
      "Best using:  {'n_estimators': 31, 'max_features': 'sqrt', 'max_depth': 71} Score:  -0.24673241695255405\n",
      "Training RMSE:  0.0131813974915215 Testing RMSE:  0.24851345478661147\n",
      "Best using:  {'n_estimators': 191, 'max_features': 'sqrt', 'max_depth': 11} Score:  -0.24109008401562093\n"
     ]
    },
    {
     "name": "stderr",
     "output_type": "stream",
     "text": [
      " 70%|██████████████████████████████████████████████████████████████████████████████████████████████████████████████████████████████████▉                                                        | 7/10 [00:58<00:25,  8.58s/it]"
     ]
    },
    {
     "name": "stdout",
     "output_type": "stream",
     "text": [
      "Training RMSE:  0.001218298256418393 Testing RMSE:  0.21919800857447197\n",
      "Best using:  {'n_estimators': 121, 'max_features': 'sqrt', 'max_depth': 81} Score:  -0.24443266352489462\n"
     ]
    },
    {
     "name": "stderr",
     "output_type": "stream",
     "text": [
      " 80%|█████████████████████████████████████████████████████████████████████████████████████████████████████████████████████████████████████████████████████▌                                     | 8/10 [01:05<00:16,  8.12s/it]"
     ]
    },
    {
     "name": "stdout",
     "output_type": "stream",
     "text": [
      "Training RMSE:  1.0365515439876745e-06 Testing RMSE:  0.24608169398006272\n"
     ]
    },
    {
     "name": "stderr",
     "output_type": "stream",
     "text": [
      " 90%|████████████████████████████████████████████████████████████████████████████████████████████████████████████████████████████████████████████████████████████████████████▎                  | 9/10 [01:10<00:06,  6.98s/it]"
     ]
    },
    {
     "name": "stdout",
     "output_type": "stream",
     "text": [
      "Best using:  {'n_estimators': 41, 'max_features': 'sqrt', 'max_depth': 81} Score:  -0.2429667487873771\n",
      "Training RMSE:  0.004718195109327796 Testing RMSE:  0.243540617418753\n",
      "Best using:  {'n_estimators': 111, 'max_features': 'sqrt', 'max_depth': 21} Score:  -0.252079698788268\n"
     ]
    },
    {
     "name": "stderr",
     "output_type": "stream",
     "text": [
      "100%|██████████████████████████████████████████████████████████████████████████████████████████████████████████████████████████████████████████████████████████████████████████████████████████| 10/10 [01:14<00:00,  7.49s/it]\n"
     ]
    },
    {
     "name": "stdout",
     "output_type": "stream",
     "text": [
      "Training RMSE:  1.0546871988478413e-05 Testing RMSE:  0.2315458097860594\n",
      "yearMSD_new\n"
     ]
    },
    {
     "name": "stderr",
     "output_type": "stream",
     "text": [
      "  0%|                                                                                                                                                                                                   | 0/10 [00:00<?, ?it/s]"
     ]
    },
    {
     "name": "stdout",
     "output_type": "stream",
     "text": [
      "Best using:  {'n_estimators': 101, 'max_features': 'sqrt', 'max_depth': 11} Score:  -9.489271835984217\n"
     ]
    },
    {
     "name": "stderr",
     "output_type": "stream",
     "text": [
      " 10%|██████████████████▍                                                                                                                                                                     | 1/10 [15:23<2:18:30, 923.36s/it]"
     ]
    },
    {
     "name": "stdout",
     "output_type": "stream",
     "text": [
      "Training RMSE:  1.8837985005280684 Testing RMSE:  9.397154835143434\n",
      "Best using:  {'n_estimators': 101, 'max_features': 'log2', 'max_depth': 11} Score:  -9.4945916543165\n"
     ]
    },
    {
     "name": "stderr",
     "output_type": "stream",
     "text": [
      " 20%|████████████████████████████████████▊                                                                                                                                                   | 2/10 [30:58<2:04:00, 930.02s/it]"
     ]
    },
    {
     "name": "stdout",
     "output_type": "stream",
     "text": [
      "Training RMSE:  2.108292806099173 Testing RMSE:  9.415416461231723\n",
      "Best using:  {'n_estimators': 111, 'max_features': 'auto', 'max_depth': 11} Score:  -9.540559457090032\n"
     ]
    },
    {
     "name": "stderr",
     "output_type": "stream",
     "text": [
      " 30%|███████████████████████████████████████████████████████▏                                                                                                                                | 3/10 [46:13<1:47:42, 923.27s/it]"
     ]
    },
    {
     "name": "stdout",
     "output_type": "stream",
     "text": [
      "Training RMSE:  1.4143544844661966 Testing RMSE:  9.366686397000986\n",
      "Best using:  {'n_estimators': 171, 'max_features': 'auto', 'max_depth': 11} Score:  -9.406229765714247\n"
     ]
    },
    {
     "name": "stderr",
     "output_type": "stream",
     "text": [
      " 40%|████████████████████████████████████████████████████████████████████████▍                                                                                                            | 4/10 [1:21:32<2:19:33, 1395.52s/it]"
     ]
    },
    {
     "name": "stdout",
     "output_type": "stream",
     "text": [
      "Training RMSE:  0.8131558041327895 Testing RMSE:  9.623429473650566\n",
      "Best using:  {'n_estimators': 71, 'max_features': 'sqrt', 'max_depth': 61} Score:  -9.875095584792295\n",
      "Training RMSE:  0.006191605495394396 Testing RMSE:  9.650264300101265\n"
     ]
    },
    {
     "name": "stderr",
     "output_type": "stream",
     "text": [
      " 50%|██████████████████████████████████████████████████████████████████████████████████████████▌                                                                                          | 5/10 [1:34:41<1:38:02, 1176.55s/it]/home/asim/.local/lib/python3.8/site-packages/joblib/externals/loky/process_executor.py:688: UserWarning: A worker stopped while some jobs were given to the executor. This can be caused by a too short worker timeout or by a memory leak.\n",
      "  warnings.warn(\n"
     ]
    },
    {
     "name": "stdout",
     "output_type": "stream",
     "text": [
      "Best using:  {'n_estimators': 41, 'max_features': 'log2', 'max_depth': 11} Score:  -9.646417213723701\n"
     ]
    },
    {
     "name": "stderr",
     "output_type": "stream",
     "text": [
      " 60%|████████████████████████████████████████████████████████████████████████████████████████████████████████████▌                                                                        | 6/10 [1:47:33<1:09:16, 1039.17s/it]"
     ]
    },
    {
     "name": "stdout",
     "output_type": "stream",
     "text": [
      "Training RMSE:  4.678058350330016 Testing RMSE:  9.615108495247233\n",
      "Best using:  {'n_estimators': 51, 'max_features': 'log2', 'max_depth': 91} Score:  -9.884906381582883\n"
     ]
    },
    {
     "name": "stderr",
     "output_type": "stream",
     "text": [
      " 70%|████████████████████████████████████████████████████████████████████████████████████████████████████████████████████████████████                                                       | 7/10 [2:04:21<51:26, 1028.83s/it]"
     ]
    },
    {
     "name": "stdout",
     "output_type": "stream",
     "text": [
      "Training RMSE:  0.05092312776776777 Testing RMSE:  9.869728455779734\n"
     ]
    },
    {
     "name": "stderr",
     "output_type": "stream",
     "text": [
      "/home/asim/.local/lib/python3.8/site-packages/joblib/externals/loky/process_executor.py:688: UserWarning: A worker stopped while some jobs were given to the executor. This can be caused by a too short worker timeout or by a memory leak.\n",
      "  warnings.warn(\n"
     ]
    },
    {
     "name": "stdout",
     "output_type": "stream",
     "text": [
      "Best using:  {'n_estimators': 111, 'max_features': 'sqrt', 'max_depth': 91} Score:  -9.830906108026266\n",
      "Training RMSE:  9.104723485019406e-05 Testing RMSE:  9.787568928237256\n"
     ]
    },
    {
     "name": "stderr",
     "output_type": "stream",
     "text": [
      " 80%|███████████████████████████████████████████████████████████████████████████████████████████████████████████████████████████████████████████████████▏                                    | 8/10 [2:19:57<33:18, 999.28s/it]"
     ]
    },
    {
     "name": "stdout",
     "output_type": "stream",
     "text": [
      "Best using:  {'n_estimators': 11, 'max_features': 'auto', 'max_depth': 11} Score:  -9.778634105421622\n"
     ]
    },
    {
     "name": "stderr",
     "output_type": "stream",
     "text": [
      " 90%|█████████████████████████████████████████████████████████████████████████████████████████████████████████████████████████████████████████████████████████████████████▌                  | 9/10 [2:34:43<16:03, 963.91s/it]"
     ]
    },
    {
     "name": "stdout",
     "output_type": "stream",
     "text": [
      "Training RMSE:  6.979356703735139 Testing RMSE:  9.662446751486792\n",
      "Best using:  {'n_estimators': 91, 'max_features': 'log2', 'max_depth': 11} Score:  -9.462252277236525\n"
     ]
    },
    {
     "name": "stderr",
     "output_type": "stream",
     "text": [
      "100%|███████████████████████████████████████████████████████████████████████████████████████████████████████████████████████████████████████████████████████████████████████████████████████| 10/10 [2:44:11<00:00, 985.13s/it]\n"
     ]
    },
    {
     "name": "stdout",
     "output_type": "stream",
     "text": [
      "Training RMSE:  2.4248223851541404 Testing RMSE:  9.466123213194962\n",
      "arrhythmia\n"
     ]
    },
    {
     "name": "stderr",
     "output_type": "stream",
     "text": [
      " 10%|██████████████████▋                                                                                                                                                                        | 1/10 [00:05<00:52,  5.79s/it]"
     ]
    },
    {
     "name": "stdout",
     "output_type": "stream",
     "text": [
      "Best using:  {'n_estimators': 101, 'max_features': 'sqrt', 'max_depth': 81} Score:  -6.45096181136104\n",
      "Training RMSE:  0.00026194611867542267 Testing RMSE:  5.626649338981481\n",
      "Best using:  {'n_estimators': 141, 'max_features': 'auto', 'max_depth': 1} Score:  -6.796127200070982\n"
     ]
    },
    {
     "name": "stderr",
     "output_type": "stream",
     "text": [
      " 20%|█████████████████████████████████████▍                                                                                                                                                     | 2/10 [00:09<00:37,  4.75s/it]"
     ]
    },
    {
     "name": "stdout",
     "output_type": "stream",
     "text": [
      "Training RMSE:  3.3616426816801748 Testing RMSE:  4.772183307410002\n",
      "Best using:  {'n_estimators': 171, 'max_features': 'sqrt', 'max_depth': 11} Score:  -5.956857586052093\n",
      "Training RMSE:  3.542172886902816e-07 Testing RMSE:  9.224667993594705\n"
     ]
    },
    {
     "name": "stderr",
     "output_type": "stream",
     "text": [
      " 40%|██████████████████████████████████████████████████████████████████████████▊                                                                                                                | 4/10 [00:24<00:41,  6.97s/it]"
     ]
    },
    {
     "name": "stdout",
     "output_type": "stream",
     "text": [
      "Best using:  {'n_estimators': 61, 'max_features': 'sqrt', 'max_depth': 11} Score:  -5.8704885431736455\n",
      "Training RMSE:  0.023531677574023593 Testing RMSE:  5.091486338659208\n",
      "Best using:  {'n_estimators': 161, 'max_features': 'sqrt', 'max_depth': 41} Score:  -6.405318469785331\n"
     ]
    },
    {
     "name": "stderr",
     "output_type": "stream",
     "text": [
      " 50%|█████████████████████████████████████████████████████████████████████████████████████████████▌                                                                                             | 5/10 [00:29<00:31,  6.26s/it]"
     ]
    },
    {
     "name": "stdout",
     "output_type": "stream",
     "text": [
      "Training RMSE:  4.3059316106014466e-07 Testing RMSE:  5.650396764611179\n",
      "Best using:  {'n_estimators': 141, 'max_features': 'auto', 'max_depth': 1} Score:  -5.877684174948559\n"
     ]
    },
    {
     "name": "stderr",
     "output_type": "stream",
     "text": [
      " 60%|████████████████████████████████████████████████████████████████████████████████████████████████████████████████▏                                                                          | 6/10 [00:32<00:20,  5.02s/it]"
     ]
    },
    {
     "name": "stdout",
     "output_type": "stream",
     "text": [
      "Training RMSE:  3.3185989911537037 Testing RMSE:  6.077983090811976\n"
     ]
    },
    {
     "name": "stderr",
     "output_type": "stream",
     "text": [
      " 70%|██████████████████████████████████████████████████████████████████████████████████████████████████████████████████████████████████▉                                                        | 7/10 [00:35<00:13,  4.37s/it]"
     ]
    },
    {
     "name": "stdout",
     "output_type": "stream",
     "text": [
      "Best using:  {'n_estimators': 141, 'max_features': 'sqrt', 'max_depth': 1} Score:  -6.005655631442341\n",
      "Training RMSE:  3.57135232935013 Testing RMSE:  5.691744573680253\n",
      "Best using:  {'n_estimators': 161, 'max_features': 'sqrt', 'max_depth': 81} Score:  -6.523987546746751\n",
      "Training RMSE:  4.215573475309774e-07 Testing RMSE:  5.939695194913749\n"
     ]
    },
    {
     "name": "stderr",
     "output_type": "stream",
     "text": [
      " 80%|█████████████████████████████████████████████████████████████████████████████████████████████████████████████████████████████████████████████████████▌                                     | 8/10 [00:39<00:08,  4.25s/it]"
     ]
    },
    {
     "name": "stdout",
     "output_type": "stream",
     "text": [
      "Best using:  {'n_estimators': 171, 'max_features': 'auto', 'max_depth': 61} Score:  -5.072946550039399\n"
     ]
    },
    {
     "name": "stderr",
     "output_type": "stream",
     "text": [
      " 90%|████████████████████████████████████████████████████████████████████████████████████████████████████████████████████████████████████████████████████████████████████████▎                  | 9/10 [00:49<00:05,  5.89s/it]"
     ]
    },
    {
     "name": "stdout",
     "output_type": "stream",
     "text": [
      "Training RMSE:  1.2797037454393585e-07 Testing RMSE:  7.051736035833324\n"
     ]
    },
    {
     "name": "stderr",
     "output_type": "stream",
     "text": [
      "100%|██████████████████████████████████████████████████████████████████████████████████████████████████████████████████████████████████████████████████████████████████████████████████████████| 10/10 [00:53<00:00,  5.37s/it]\n"
     ]
    },
    {
     "name": "stdout",
     "output_type": "stream",
     "text": [
      "Best using:  {'n_estimators': 121, 'max_features': 'sqrt', 'max_depth': 51} Score:  -6.268644836142751\n",
      "Training RMSE:  2.8882505624646728e-05 Testing RMSE:  7.287000250930882\n",
      "Big_mart_sales\n"
     ]
    },
    {
     "name": "stderr",
     "output_type": "stream",
     "text": [
      "  0%|                                                                                                                                                                                                   | 0/10 [00:00<?, ?it/s]"
     ]
    },
    {
     "name": "stdout",
     "output_type": "stream",
     "text": [
      "Best using:  {'n_estimators': 191, 'max_features': 'auto', 'max_depth': 1} Score:  -1140.0388841509186\n"
     ]
    },
    {
     "name": "stderr",
     "output_type": "stream",
     "text": [
      " 10%|██████████████████▋                                                                                                                                                                        | 1/10 [00:13<02:01, 13.53s/it]"
     ]
    },
    {
     "name": "stdout",
     "output_type": "stream",
     "text": [
      "Training RMSE:  1126.4642818596794 Testing RMSE:  1105.348576050163\n"
     ]
    },
    {
     "name": "stderr",
     "output_type": "stream",
     "text": [
      " 20%|█████████████████████████████████████▍                                                                                                                                                     | 2/10 [00:30<02:03, 15.38s/it]"
     ]
    },
    {
     "name": "stdout",
     "output_type": "stream",
     "text": [
      "Best using:  {'n_estimators': 181, 'max_features': 'log2', 'max_depth': 1} Score:  -1178.1959374907071\n",
      "Training RMSE:  1151.6487322140129 Testing RMSE:  1157.9480104091194\n",
      "Best using:  {'n_estimators': 31, 'max_features': 'sqrt', 'max_depth': 61} Score:  -1191.3324659089606\n"
     ]
    },
    {
     "name": "stderr",
     "output_type": "stream",
     "text": [
      " 30%|████████████████████████████████████████████████████████                                                                                                                                   | 3/10 [00:45<01:46, 15.28s/it]"
     ]
    },
    {
     "name": "stdout",
     "output_type": "stream",
     "text": [
      "Training RMSE:  64.9096208642825 Testing RMSE:  1252.71763111653\n",
      "Best using:  {'n_estimators': 91, 'max_features': 'log2', 'max_depth': 61} Score:  -1219.2782299264218\n"
     ]
    },
    {
     "name": "stderr",
     "output_type": "stream",
     "text": [
      " 40%|██████████████████████████████████████████████████████████████████████████▊                                                                                                                | 4/10 [01:01<01:34, 15.74s/it]"
     ]
    },
    {
     "name": "stdout",
     "output_type": "stream",
     "text": [
      "Training RMSE:  0.11959441081474417 Testing RMSE:  1172.1451562673815\n",
      "Best using:  {'n_estimators': 141, 'max_features': 'sqrt', 'max_depth': 61} Score:  -1239.4451132777263\n"
     ]
    },
    {
     "name": "stderr",
     "output_type": "stream",
     "text": [
      " 50%|█████████████████████████████████████████████████████████████████████████████████████████████▌                                                                                             | 5/10 [01:16<01:16, 15.32s/it]"
     ]
    },
    {
     "name": "stdout",
     "output_type": "stream",
     "text": [
      "Training RMSE:  0.0006095531315030952 Testing RMSE:  1135.593982767232\n"
     ]
    },
    {
     "name": "stderr",
     "output_type": "stream",
     "text": [
      " 60%|████████████████████████████████████████████████████████████████████████████████████████████████████████████████▏                                                                          | 6/10 [01:25<00:52, 13.08s/it]"
     ]
    },
    {
     "name": "stdout",
     "output_type": "stream",
     "text": [
      "Best using:  {'n_estimators': 121, 'max_features': 'log2', 'max_depth': 1} Score:  -1195.4527528823053\n",
      "Training RMSE:  1194.8804347775847 Testing RMSE:  1156.7523351501677\n",
      "Best using:  {'n_estimators': 31, 'max_features': 'log2', 'max_depth': 91} Score:  -1170.5951060834793\n"
     ]
    },
    {
     "name": "stderr",
     "output_type": "stream",
     "text": [
      " 70%|██████████████████████████████████████████████████████████████████████████████████████████████████████████████████████████████████▉                                                        | 7/10 [01:43<00:44, 14.86s/it]"
     ]
    },
    {
     "name": "stdout",
     "output_type": "stream",
     "text": [
      "Training RMSE:  65.26272632121633 Testing RMSE:  1211.0820646219993\n",
      "Best using:  {'n_estimators': 31, 'max_features': 'sqrt', 'max_depth': 61} Score:  -1189.59896219538\n"
     ]
    },
    {
     "name": "stderr",
     "output_type": "stream",
     "text": [
      " 80%|█████████████████████████████████████████████████████████████████████████████████████████████████████████████████████████████████████████████████████▌                                     | 8/10 [02:02<00:32, 16.03s/it]"
     ]
    },
    {
     "name": "stdout",
     "output_type": "stream",
     "text": [
      "Training RMSE:  64.79026556916672 Testing RMSE:  1212.0123237312757\n",
      "Best using:  {'n_estimators': 41, 'max_features': 'auto', 'max_depth': 11} Score:  -1157.28172822926\n"
     ]
    },
    {
     "name": "stderr",
     "output_type": "stream",
     "text": [
      " 90%|████████████████████████████████████████████████████████████████████████████████████████████████████████████████████████████████████████████████████████████████████████▎                  | 9/10 [02:12<00:14, 14.36s/it]"
     ]
    },
    {
     "name": "stdout",
     "output_type": "stream",
     "text": [
      "Training RMSE:  563.4866560723996 Testing RMSE:  1231.8553007807634\n"
     ]
    },
    {
     "name": "stderr",
     "output_type": "stream",
     "text": [
      "100%|██████████████████████████████████████████████████████████████████████████████████████████████████████████████████████████████████████████████████████████████████████████████████████████| 10/10 [02:27<00:00, 14.77s/it]\n"
     ]
    },
    {
     "name": "stdout",
     "output_type": "stream",
     "text": [
      "Best using:  {'n_estimators': 41, 'max_features': 'auto', 'max_depth': 1} Score:  -1175.2502661925955\n",
      "Training RMSE:  1169.4528985814643 Testing RMSE:  1256.9306754232316\n",
      "blogData\n"
     ]
    },
    {
     "name": "stderr",
     "output_type": "stream",
     "text": [
      "  0%|                                                                                                                                                                                                   | 0/10 [00:00<?, ?it/s]/home/asim/.local/lib/python3.8/site-packages/joblib/externals/loky/process_executor.py:688: UserWarning: A worker stopped while some jobs were given to the executor. This can be caused by a too short worker timeout or by a memory leak.\n",
      "  warnings.warn(\n"
     ]
    },
    {
     "name": "stdout",
     "output_type": "stream",
     "text": [
      "Best using:  {'n_estimators': 51, 'max_features': 'log2', 'max_depth': 11} Score:  -26.75095831880487\n"
     ]
    },
    {
     "name": "stderr",
     "output_type": "stream",
     "text": [
      " 10%|██████████████████▌                                                                                                                                                                       | 1/10 [04:35<41:19, 275.51s/it]"
     ]
    },
    {
     "name": "stdout",
     "output_type": "stream",
     "text": [
      "Training RMSE:  8.343270201721168 Testing RMSE:  21.382877518579324\n",
      "Best using:  {'n_estimators': 171, 'max_features': 'sqrt', 'max_depth': 11} Score:  -25.361181602271007\n"
     ]
    },
    {
     "name": "stderr",
     "output_type": "stream",
     "text": [
      " 20%|█████████████████████████████████████▏                                                                                                                                                    | 2/10 [10:54<44:49, 336.14s/it]"
     ]
    },
    {
     "name": "stdout",
     "output_type": "stream",
     "text": [
      "Training RMSE:  2.6141971949238445 Testing RMSE:  27.252895850235248\n",
      "Best using:  {'n_estimators': 151, 'max_features': 'sqrt', 'max_depth': 51} Score:  -28.191682424988453\n",
      "Training RMSE:  5.640583348306177 Testing RMSE:  22.713793301414675\n"
     ]
    },
    {
     "name": "stderr",
     "output_type": "stream",
     "text": [
      " 30%|███████████████████████████████████████████████████████▊                                                                                                                                  | 3/10 [21:15<54:25, 466.49s/it]"
     ]
    },
    {
     "name": "stdout",
     "output_type": "stream",
     "text": [
      "Best using:  {'n_estimators': 171, 'max_features': 'sqrt', 'max_depth': 21} Score:  -27.163109737678166\n",
      "Training RMSE:  5.638776472086949 Testing RMSE:  23.708170739617856\n"
     ]
    },
    {
     "name": "stderr",
     "output_type": "stream",
     "text": [
      " 40%|██████████████████████████████████████████████████████████████████████████▍                                                                                                               | 4/10 [27:56<44:02, 440.41s/it]"
     ]
    },
    {
     "name": "stdout",
     "output_type": "stream",
     "text": [
      "Best using:  {'n_estimators': 121, 'max_features': 'log2', 'max_depth': 11} Score:  -24.752823035925406\n"
     ]
    },
    {
     "name": "stderr",
     "output_type": "stream",
     "text": [
      " 50%|█████████████████████████████████████████████████████████████████████████████████████████████                                                                                             | 5/10 [35:59<37:59, 455.83s/it]"
     ]
    },
    {
     "name": "stdout",
     "output_type": "stream",
     "text": [
      "Training RMSE:  5.262400077434655 Testing RMSE:  30.05482523438916\n",
      "Best using:  {'n_estimators': 141, 'max_features': 'sqrt', 'max_depth': 51} Score:  -26.74440705512376\n",
      "Training RMSE:  0.3203213086422591 Testing RMSE:  33.55476234047409\n"
     ]
    },
    {
     "name": "stderr",
     "output_type": "stream",
     "text": [
      " 60%|███████████████████████████████████████████████████████████████████████████████████████████████████████████████▌                                                                          | 6/10 [43:07<29:46, 446.53s/it]/home/asim/.local/lib/python3.8/site-packages/joblib/externals/loky/process_executor.py:688: UserWarning: A worker stopped while some jobs were given to the executor. This can be caused by a too short worker timeout or by a memory leak.\n",
      "  warnings.warn(\n"
     ]
    },
    {
     "name": "stdout",
     "output_type": "stream",
     "text": [
      "Best using:  {'n_estimators': 151, 'max_features': 'sqrt', 'max_depth': 11} Score:  -26.753339105946644\n"
     ]
    },
    {
     "name": "stderr",
     "output_type": "stream",
     "text": [
      " 70%|██████████████████████████████████████████████████████████████████████████████████████████████████████████████████████████████████▏                                                       | 7/10 [50:14<21:59, 439.97s/it]"
     ]
    },
    {
     "name": "stdout",
     "output_type": "stream",
     "text": [
      "Training RMSE:  2.908274415943759 Testing RMSE:  29.951295034599305\n",
      "Best using:  {'n_estimators': 101, 'max_features': 'sqrt', 'max_depth': 31} Score:  -26.3759307029567\n",
      "Training RMSE:  1.1520701393004806 Testing RMSE:  22.758398842491054\n"
     ]
    },
    {
     "name": "stderr",
     "output_type": "stream",
     "text": [
      " 80%|████████████████████████████████████████████████████████████████████████████████████████████████████████████████████████████████████████████████████▊                                     | 8/10 [55:34<13:23, 401.94s/it]/home/asim/.local/lib/python3.8/site-packages/joblib/externals/loky/process_executor.py:688: UserWarning: A worker stopped while some jobs were given to the executor. This can be caused by a too short worker timeout or by a memory leak.\n",
      "  warnings.warn(\n"
     ]
    },
    {
     "name": "stdout",
     "output_type": "stream",
     "text": [
      "Best using:  {'n_estimators': 171, 'max_features': 'sqrt', 'max_depth': 11} Score:  -23.048825011484602\n"
     ]
    },
    {
     "name": "stderr",
     "output_type": "stream",
     "text": [
      " 90%|█████████████████████████████████████████████████████████████████████████████████████████████████████████████████████████████████████████████████████████████████████▌                  | 9/10 [1:02:11<06:40, 400.34s/it]"
     ]
    },
    {
     "name": "stdout",
     "output_type": "stream",
     "text": [
      "Training RMSE:  2.485851364399492 Testing RMSE:  26.903785132498673\n",
      "Best using:  {'n_estimators': 161, 'max_features': 'sqrt', 'max_depth': 71} Score:  -27.60121820926791\n",
      "Training RMSE:  5.749986089023684 Testing RMSE:  25.108467323610665\n"
     ]
    },
    {
     "name": "stderr",
     "output_type": "stream",
     "text": [
      "100%|███████████████████████████████████████████████████████████████████████████████████████████████████████████████████████████████████████████████████████████████████████████████████████| 10/10 [1:10:07<00:00, 420.80s/it]\n"
     ]
    },
    {
     "name": "stdout",
     "output_type": "stream",
     "text": [
      "communities\n"
     ]
    },
    {
     "name": "stderr",
     "output_type": "stream",
     "text": [
      " 10%|██████████████████▋                                                                                                                                                                        | 1/10 [00:26<03:57, 26.41s/it]"
     ]
    },
    {
     "name": "stdout",
     "output_type": "stream",
     "text": [
      "Best using:  {'n_estimators': 121, 'max_features': 'sqrt', 'max_depth': 1} Score:  -0.14312608905519636\n",
      "Training RMSE:  0.1306474428214467 Testing RMSE:  0.12170583453731353\n",
      "Best using:  {'n_estimators': 81, 'max_features': 'auto', 'max_depth': 1} Score:  -0.145547269910109\n"
     ]
    },
    {
     "name": "stderr",
     "output_type": "stream",
     "text": [
      " 20%|█████████████████████████████████████▍                                                                                                                                                     | 2/10 [00:44<02:51, 21.40s/it]"
     ]
    },
    {
     "name": "stdout",
     "output_type": "stream",
     "text": [
      "Training RMSE:  0.13262943944072883 Testing RMSE:  0.1430938969852826\n",
      "Best using:  {'n_estimators': 161, 'max_features': 'log2', 'max_depth': 41} Score:  -0.1418513838626646\n"
     ]
    },
    {
     "name": "stderr",
     "output_type": "stream",
     "text": [
      " 30%|████████████████████████████████████████████████████████                                                                                                                                   | 3/10 [01:03<02:23, 20.45s/it]"
     ]
    },
    {
     "name": "stdout",
     "output_type": "stream",
     "text": [
      "Training RMSE:  1.688777551649027e-08 Testing RMSE:  0.1342105238728362\n",
      "Best using:  {'n_estimators': 181, 'max_features': 'sqrt', 'max_depth': 21} Score:  -0.14161138665080936\n"
     ]
    },
    {
     "name": "stderr",
     "output_type": "stream",
     "text": [
      " 40%|██████████████████████████████████████████████████████████████████████████▊                                                                                                                | 4/10 [01:09<01:28, 14.81s/it]"
     ]
    },
    {
     "name": "stdout",
     "output_type": "stream",
     "text": [
      "Training RMSE:  1.4886016913771992e-08 Testing RMSE:  0.13605511379847943\n",
      "Best using:  {'n_estimators': 131, 'max_features': 'sqrt', 'max_depth': 81} Score:  -0.13994564458526754\n"
     ]
    },
    {
     "name": "stderr",
     "output_type": "stream",
     "text": [
      " 50%|█████████████████████████████████████████████████████████████████████████████████████████████▌                                                                                             | 5/10 [01:25<01:15, 15.04s/it]"
     ]
    },
    {
     "name": "stdout",
     "output_type": "stream",
     "text": [
      "Training RMSE:  2.2662417414693346e-07 Testing RMSE:  0.16071669361072824\n",
      "Best using:  {'n_estimators': 51, 'max_features': 'sqrt', 'max_depth': 51} Score:  -0.14156602461989473\n"
     ]
    },
    {
     "name": "stderr",
     "output_type": "stream",
     "text": [
      " 60%|████████████████████████████████████████████████████████████████████████████████████████████████████████████████▏                                                                          | 6/10 [01:48<01:11, 17.78s/it]"
     ]
    },
    {
     "name": "stdout",
     "output_type": "stream",
     "text": [
      "Training RMSE:  0.0010652240503808577 Testing RMSE:  0.14432630087879608\n"
     ]
    },
    {
     "name": "stderr",
     "output_type": "stream",
     "text": [
      " 70%|██████████████████████████████████████████████████████████████████████████████████████████████████████████████████████████████████▉                                                        | 7/10 [02:11<00:58, 19.41s/it]"
     ]
    },
    {
     "name": "stdout",
     "output_type": "stream",
     "text": [
      "Best using:  {'n_estimators': 161, 'max_features': 'log2', 'max_depth': 1} Score:  -0.14287723770310373\n",
      "Training RMSE:  0.1259743322377415 Testing RMSE:  0.1489223719551686\n",
      "Best using:  {'n_estimators': 61, 'max_features': 'sqrt', 'max_depth': 61} Score:  -0.1475987889645713\n"
     ]
    },
    {
     "name": "stderr",
     "output_type": "stream",
     "text": [
      " 80%|█████████████████████████████████████████████████████████████████████████████████████████████████████████████████████████████████████████████████████▌                                     | 8/10 [02:36<00:42, 21.42s/it]"
     ]
    },
    {
     "name": "stdout",
     "output_type": "stream",
     "text": [
      "Training RMSE:  0.000388773307100021 Testing RMSE:  0.1348317855409102\n",
      "Best using:  {'n_estimators': 91, 'max_features': 'log2', 'max_depth': 81} Score:  -0.13786641460119667\n"
     ]
    },
    {
     "name": "stderr",
     "output_type": "stream",
     "text": [
      " 90%|████████████████████████████████████████████████████████████████████████████████████████████████████████████████████████████████████████████████████████████████████████▎                  | 9/10 [02:46<00:17, 17.78s/it]"
     ]
    },
    {
     "name": "stdout",
     "output_type": "stream",
     "text": [
      "Training RMSE:  1.5780753133960816e-05 Testing RMSE:  0.14528202714295202\n",
      "Best using:  {'n_estimators': 191, 'max_features': 'sqrt', 'max_depth': 21} Score:  -0.1447650917171762\n"
     ]
    },
    {
     "name": "stderr",
     "output_type": "stream",
     "text": [
      "100%|██████████████████████████████████████████████████████████████████████████████████████████████████████████████████████████████████████████████████████████████████████████████████████████| 10/10 [03:04<00:00, 18.44s/it]\n"
     ]
    },
    {
     "name": "stdout",
     "output_type": "stream",
     "text": [
      "Training RMSE:  1.489307173373566e-08 Testing RMSE:  0.12758294138124657\n",
      "dengue_features\n"
     ]
    },
    {
     "name": "stderr",
     "output_type": "stream",
     "text": [
      "  0%|                                                                                                                                                                                                   | 0/10 [00:00<?, ?it/s]"
     ]
    },
    {
     "name": "stdout",
     "output_type": "stream",
     "text": [
      "Best using:  {'n_estimators': 131, 'max_features': 'log2', 'max_depth': 71} Score:  -39.438720110187106\n"
     ]
    },
    {
     "name": "stderr",
     "output_type": "stream",
     "text": [
      " 10%|██████████████████▋                                                                                                                                                                        | 1/10 [00:03<00:35,  3.96s/it]"
     ]
    },
    {
     "name": "stdout",
     "output_type": "stream",
     "text": [
      "Training RMSE:  4.6531776694340955e-05 Testing RMSE:  27.434767803312475\n",
      "Best using:  {'n_estimators': 171, 'max_features': 'log2', 'max_depth': 21} Score:  -36.240445661330796\n"
     ]
    },
    {
     "name": "stderr",
     "output_type": "stream",
     "text": [
      " 20%|█████████████████████████████████████▍                                                                                                                                                     | 2/10 [00:06<00:26,  3.34s/it]"
     ]
    },
    {
     "name": "stdout",
     "output_type": "stream",
     "text": [
      "Training RMSE:  1.1987488705000524 Testing RMSE:  39.98208102740179\n"
     ]
    },
    {
     "name": "stderr",
     "output_type": "stream",
     "text": [
      " 30%|████████████████████████████████████████████████████████                                                                                                                                   | 3/10 [00:10<00:24,  3.47s/it]"
     ]
    },
    {
     "name": "stdout",
     "output_type": "stream",
     "text": [
      "Best using:  {'n_estimators': 101, 'max_features': 'log2', 'max_depth': 1} Score:  -37.76719449060721\n",
      "Training RMSE:  37.06368443852825 Testing RMSE:  46.7386031151435\n",
      "Best using:  {'n_estimators': 111, 'max_features': 'log2', 'max_depth': 21} Score:  -35.338749007969604\n"
     ]
    },
    {
     "name": "stderr",
     "output_type": "stream",
     "text": [
      " 40%|██████████████████████████████████████████████████████████████████████████▊                                                                                                                | 4/10 [00:15<00:23,  3.92s/it]"
     ]
    },
    {
     "name": "stdout",
     "output_type": "stream",
     "text": [
      "Training RMSE:  0.5248685370588169 Testing RMSE:  41.338789839915925\n"
     ]
    },
    {
     "name": "stderr",
     "output_type": "stream",
     "text": [
      " 50%|█████████████████████████████████████████████████████████████████████████████████████████████▌                                                                                             | 5/10 [00:21<00:24,  4.85s/it]"
     ]
    },
    {
     "name": "stdout",
     "output_type": "stream",
     "text": [
      "Best using:  {'n_estimators': 31, 'max_features': 'sqrt', 'max_depth': 21} Score:  -37.408656049874274\n",
      "Training RMSE:  2.117691241143674 Testing RMSE:  32.88213795471596\n"
     ]
    },
    {
     "name": "stderr",
     "output_type": "stream",
     "text": [
      " 60%|████████████████████████████████████████████████████████████████████████████████████████████████████████████████▏                                                                          | 6/10 [00:25<00:18,  4.53s/it]"
     ]
    },
    {
     "name": "stdout",
     "output_type": "stream",
     "text": [
      "Best using:  {'n_estimators': 61, 'max_features': 'sqrt', 'max_depth': 71} Score:  -37.62027343447145\n",
      "Training RMSE:  0.6979563176814227 Testing RMSE:  31.256894901272517\n"
     ]
    },
    {
     "name": "stderr",
     "output_type": "stream",
     "text": [
      " 70%|██████████████████████████████████████████████████████████████████████████████████████████████████████████████████████████████████▉                                                        | 7/10 [00:26<00:10,  3.46s/it]"
     ]
    },
    {
     "name": "stdout",
     "output_type": "stream",
     "text": [
      "Best using:  {'n_estimators': 31, 'max_features': 'log2', 'max_depth': 51} Score:  -38.01693035663527\n",
      "Training RMSE:  2.037663752397105 Testing RMSE:  35.00784358180498\n",
      "Best using:  {'n_estimators': 171, 'max_features': 'log2', 'max_depth': 41} Score:  -36.86162550414535\n"
     ]
    },
    {
     "name": "stderr",
     "output_type": "stream",
     "text": [
      " 80%|█████████████████████████████████████████████████████████████████████████████████████████████████████████████████████████████████████████████████████▌                                     | 8/10 [00:30<00:06,  3.49s/it]"
     ]
    },
    {
     "name": "stdout",
     "output_type": "stream",
     "text": [
      "Training RMSE:  0.7266802230839804 Testing RMSE:  32.11924480889326\n",
      "Best using:  {'n_estimators': 191, 'max_features': 'log2', 'max_depth': 21} Score:  -37.71462899537844\n"
     ]
    },
    {
     "name": "stderr",
     "output_type": "stream",
     "text": [
      " 90%|████████████████████████████████████████████████████████████████████████████████████████████████████████████████████████████████████████████████████████████████████████▎                  | 9/10 [00:36<00:04,  4.26s/it]"
     ]
    },
    {
     "name": "stdout",
     "output_type": "stream",
     "text": [
      "Training RMSE:  0.5248683902019885 Testing RMSE:  30.120679040548996\n"
     ]
    },
    {
     "name": "stderr",
     "output_type": "stream",
     "text": [
      "100%|██████████████████████████████████████████████████████████████████████████████████████████████████████████████████████████████████████████████████████████████████████████████████████████| 10/10 [00:42<00:00,  4.23s/it]\n"
     ]
    },
    {
     "name": "stdout",
     "output_type": "stream",
     "text": [
      "Best using:  {'n_estimators': 61, 'max_features': 'sqrt', 'max_depth': 91} Score:  -33.88349878522221\n",
      "Training RMSE:  1.1806864068763019 Testing RMSE:  35.76337203192187\n",
      "ECG0_p02\n"
     ]
    },
    {
     "name": "stderr",
     "output_type": "stream",
     "text": [
      "  0%|                                                                                                                                                                                                   | 0/10 [00:00<?, ?it/s]"
     ]
    },
    {
     "name": "stdout",
     "output_type": "stream",
     "text": [
      "Best using:  {'n_estimators': 91, 'max_features': 'auto', 'max_depth': 61} Score:  -0.0690964430678539\n",
      "Training RMSE:  1.8510763647294875e-05 Testing RMSE:  0.06967697226795948\n"
     ]
    },
    {
     "name": "stderr",
     "output_type": "stream",
     "text": [
      " 10%|██████████████████                                                                                                                                                                  | 1/10 [1:13:18<10:59:50, 4398.91s/it]"
     ]
    },
    {
     "name": "stdout",
     "output_type": "stream",
     "text": [
      "Best using:  {'n_estimators': 21, 'max_features': 'auto', 'max_depth': 21} Score:  -0.06414224120531849\n"
     ]
    },
    {
     "name": "stderr",
     "output_type": "stream",
     "text": [
      " 20%|████████████████████████████████████                                                                                                                                                | 2/10 [2:29:58<10:02:14, 4516.85s/it]"
     ]
    },
    {
     "name": "stdout",
     "output_type": "stream",
     "text": [
      "Training RMSE:  0.0304691147403607 Testing RMSE:  0.06083413950249206\n"
     ]
    },
    {
     "name": "stderr",
     "output_type": "stream",
     "text": [
      "/home/asim/.local/lib/python3.8/site-packages/joblib/externals/loky/process_executor.py:688: UserWarning: A worker stopped while some jobs were given to the executor. This can be caused by a too short worker timeout or by a memory leak.\n",
      "  warnings.warn(\n"
     ]
    },
    {
     "name": "stdout",
     "output_type": "stream",
     "text": [
      "Best using:  {'n_estimators': 121, 'max_features': 'auto', 'max_depth': 11} Score:  -0.04217919638348818\n",
      "Training RMSE:  0.014772922394319888 Testing RMSE:  0.039280194463257985\n"
     ]
    },
    {
     "name": "stderr",
     "output_type": "stream",
     "text": [
      " 30%|██████████████████████████████████████████████████████▎                                                                                                                              | 3/10 [3:53:50<9:14:24, 4752.06s/it]/home/asim/.local/lib/python3.8/site-packages/joblib/externals/loky/process_executor.py:688: UserWarning: A worker stopped while some jobs were given to the executor. This can be caused by a too short worker timeout or by a memory leak.\n",
      "  warnings.warn(\n"
     ]
    },
    {
     "name": "stdout",
     "output_type": "stream",
     "text": [
      "Best using:  {'n_estimators': 41, 'max_features': 'auto', 'max_depth': 51} Score:  -0.06739181459154973\n",
      "Training RMSE:  0.003615806223568278 Testing RMSE:  0.06565385564838967\n"
     ]
    },
    {
     "name": "stderr",
     "output_type": "stream",
     "text": [
      " 40%|████████████████████████████████████████████████████████████████████████▍                                                                                                            | 4/10 [4:47:47<6:55:24, 4154.03s/it]/home/asim/.local/lib/python3.8/site-packages/joblib/externals/loky/process_executor.py:688: UserWarning: A worker stopped while some jobs were given to the executor. This can be caused by a too short worker timeout or by a memory leak.\n",
      "  warnings.warn(\n"
     ]
    },
    {
     "name": "stdout",
     "output_type": "stream",
     "text": [
      "Best using:  {'n_estimators': 171, 'max_features': 'auto', 'max_depth': 11} Score:  -0.041528938269330525\n",
      "Training RMSE:  0.012340629386145234 Testing RMSE:  0.038452463503713126\n"
     ]
    },
    {
     "name": "stderr",
     "output_type": "stream",
     "text": [
      " 50%|██████████████████████████████████████████████████████████████████████████████████████████▌                                                                                          | 5/10 [6:03:11<5:57:16, 4287.32s/it]/home/asim/.local/lib/python3.8/site-packages/joblib/externals/loky/process_executor.py:688: UserWarning: A worker stopped while some jobs were given to the executor. This can be caused by a too short worker timeout or by a memory leak.\n",
      "  warnings.warn(\n"
     ]
    },
    {
     "name": "stdout",
     "output_type": "stream",
     "text": [
      "Best using:  {'n_estimators': 171, 'max_features': 'auto', 'max_depth': 21} Score:  -0.054976713681847846\n",
      "Training RMSE:  4.251096772325372e-05 Testing RMSE:  0.0532144792818499\n"
     ]
    },
    {
     "name": "stderr",
     "output_type": "stream",
     "text": [
      " 60%|████████████████████████████████████████████████████████████████████████████████████████████████████████████▌                                                                        | 6/10 [8:18:11<6:12:14, 5583.74s/it]/home/asim/.local/lib/python3.8/site-packages/joblib/externals/loky/process_executor.py:688: UserWarning: A worker stopped while some jobs were given to the executor. This can be caused by a too short worker timeout or by a memory leak.\n",
      "  warnings.warn(\n"
     ]
    },
    {
     "name": "stdout",
     "output_type": "stream",
     "text": [
      "Best using:  {'n_estimators': 171, 'max_features': 'auto', 'max_depth': 11} Score:  -0.04228909379874089\n",
      "Training RMSE:  0.0124227644492228 Testing RMSE:  0.040941157676998005\n"
     ]
    },
    {
     "name": "stderr",
     "output_type": "stream",
     "text": [
      " 70%|██████████████████████████████████████████████████████████████████████████████████████████████████████████████████████████████▋                                                      | 7/10 [9:44:59<4:33:02, 5460.98s/it]/home/asim/.local/lib/python3.8/site-packages/joblib/externals/loky/process_executor.py:688: UserWarning: A worker stopped while some jobs were given to the executor. This can be caused by a too short worker timeout or by a memory leak.\n",
      "  warnings.warn(\n"
     ]
    },
    {
     "name": "stdout",
     "output_type": "stream",
     "text": [
      "Best using:  {'n_estimators': 31, 'max_features': 'auto', 'max_depth': 41} Score:  -0.06957859321630888\n",
      "Training RMSE:  0.01031574067234901 Testing RMSE:  0.06633180499075986\n"
     ]
    },
    {
     "name": "stderr",
     "output_type": "stream",
     "text": [
      " 80%|████████████████████████████████████████████████████████████████████████████████████████████████████████████████████████████████████████████████                                    | 8/10 [10:47:39<2:43:58, 4919.46s/it]"
     ]
    },
    {
     "name": "stdout",
     "output_type": "stream",
     "text": [
      "Best using:  {'n_estimators': 81, 'max_features': 'auto', 'max_depth': 91} Score:  -0.06941493296375374\n",
      "Training RMSE:  5.3161946502119324e-05 Testing RMSE:  0.06489447276126996\n"
     ]
    },
    {
     "name": "stderr",
     "output_type": "stream",
     "text": [
      " 90%|██████████████████████████████████████████████████████████████████████████████████████████████████████████████████████████████████████████████████████████████████                  | 9/10 [11:37:41<1:11:59, 4319.90s/it]/home/asim/.local/lib/python3.8/site-packages/joblib/externals/loky/process_executor.py:688: UserWarning: A worker stopped while some jobs were given to the executor. This can be caused by a too short worker timeout or by a memory leak.\n",
      "  warnings.warn(\n"
     ]
    },
    {
     "name": "stdout",
     "output_type": "stream",
     "text": [
      "Best using:  {'n_estimators': 131, 'max_features': 'auto', 'max_depth': 11} Score:  -0.041928161799301776\n",
      "Training RMSE:  0.01412677749325202 Testing RMSE:  0.04075374283673487\n"
     ]
    },
    {
     "name": "stderr",
     "output_type": "stream",
     "text": [
      "100%|█████████████████████████████████████████████████████████████████████████████████████████████████████████████████████████████████████████████████████████████████████████████████████| 10/10 [12:23:17<00:00, 4459.78s/it]\n"
     ]
    },
    {
     "name": "stdout",
     "output_type": "stream",
     "text": [
      "ENERGY_DATA_COMPLETE\n"
     ]
    },
    {
     "name": "stderr",
     "output_type": "stream",
     "text": [
      "  0%|                                                                                                                                                                                                   | 0/10 [00:00<?, ?it/s]"
     ]
    },
    {
     "name": "stdout",
     "output_type": "stream",
     "text": [
      "Best using:  {'n_estimators': 181, 'max_features': 'log2', 'max_depth': 91} Score:  -73.35087499009006\n"
     ]
    },
    {
     "name": "stderr",
     "output_type": "stream",
     "text": [
      " 10%|██████████████████▌                                                                                                                                                                       | 1/10 [02:49<25:21, 169.01s/it]"
     ]
    },
    {
     "name": "stdout",
     "output_type": "stream",
     "text": [
      "Training RMSE:  5.27912616663241e-07 Testing RMSE:  71.53234689349146\n",
      "Best using:  {'n_estimators': 171, 'max_features': 'log2', 'max_depth': 71} Score:  -73.43609914976022\n"
     ]
    },
    {
     "name": "stderr",
     "output_type": "stream",
     "text": [
      " 20%|█████████████████████████████████████▏                                                                                                                                                    | 2/10 [05:08<20:14, 151.85s/it]"
     ]
    },
    {
     "name": "stdout",
     "output_type": "stream",
     "text": [
      "Training RMSE:  1.559456582935691e-06 Testing RMSE:  65.70124757419546\n",
      "Best using:  {'n_estimators': 81, 'max_features': 'log2', 'max_depth': 31} Score:  -73.35738757770949\n"
     ]
    },
    {
     "name": "stderr",
     "output_type": "stream",
     "text": [
      " 30%|███████████████████████████████████████████████████████▊                                                                                                                                  | 3/10 [08:53<21:37, 185.31s/it]"
     ]
    },
    {
     "name": "stdout",
     "output_type": "stream",
     "text": [
      "Training RMSE:  0.020189715555564123 Testing RMSE:  70.6270430880004\n",
      "Best using:  {'n_estimators': 171, 'max_features': 'log2', 'max_depth': 91} Score:  -73.8452705256138\n"
     ]
    },
    {
     "name": "stderr",
     "output_type": "stream",
     "text": [
      " 40%|██████████████████████████████████████████████████████████████████████████▍                                                                                                               | 4/10 [11:38<17:42, 177.16s/it]"
     ]
    },
    {
     "name": "stdout",
     "output_type": "stream",
     "text": [
      "Training RMSE:  1.5460606300968864e-06 Testing RMSE:  72.01327038369082\n",
      "Best using:  {'n_estimators': 111, 'max_features': 'log2', 'max_depth': 31} Score:  -71.98186727426842\n"
     ]
    },
    {
     "name": "stderr",
     "output_type": "stream",
     "text": [
      " 50%|█████████████████████████████████████████████████████████████████████████████████████████████                                                                                             | 5/10 [14:11<14:02, 168.47s/it]"
     ]
    },
    {
     "name": "stdout",
     "output_type": "stream",
     "text": [
      "Training RMSE:  0.0008640797652635563 Testing RMSE:  66.91624363974825\n",
      "Best using:  {'n_estimators': 91, 'max_features': 'log2', 'max_depth': 51} Score:  -72.82134333092456\n"
     ]
    },
    {
     "name": "stderr",
     "output_type": "stream",
     "text": [
      " 60%|███████████████████████████████████████████████████████████████████████████████████████████████████████████████▌                                                                          | 6/10 [16:03<09:56, 149.22s/it]"
     ]
    },
    {
     "name": "stdout",
     "output_type": "stream",
     "text": [
      "Training RMSE:  0.007030486207874158 Testing RMSE:  71.16159838643975\n",
      "Best using:  {'n_estimators': 71, 'max_features': 'log2', 'max_depth': 71} Score:  -75.7090046717962\n"
     ]
    },
    {
     "name": "stderr",
     "output_type": "stream",
     "text": [
      " 70%|██████████████████████████████████████████████████████████████████████████████████████████████████████████████████████████████████▏                                                       | 7/10 [17:48<06:44, 134.70s/it]"
     ]
    },
    {
     "name": "stdout",
     "output_type": "stream",
     "text": [
      "Training RMSE:  0.059294412106086956 Testing RMSE:  65.77571786972247\n",
      "Best using:  {'n_estimators': 51, 'max_features': 'log2', 'max_depth': 91} Score:  -72.54082966798448\n"
     ]
    },
    {
     "name": "stderr",
     "output_type": "stream",
     "text": [
      " 80%|████████████████████████████████████████████████████████████████████████████████████████████████████████████████████████████████████████████████████▊                                     | 8/10 [18:36<03:34, 107.30s/it]"
     ]
    },
    {
     "name": "stdout",
     "output_type": "stream",
     "text": [
      "Training RMSE:  0.46985066863732633 Testing RMSE:  72.07983695803388\n",
      "Best using:  {'n_estimators': 191, 'max_features': 'sqrt', 'max_depth': 11} Score:  -73.58673744950609\n"
     ]
    },
    {
     "name": "stderr",
     "output_type": "stream",
     "text": [
      " 90%|███████████████████████████████████████████████████████████████████████████████████████████████████████████████████████████████████████████████████████████████████████▍                  | 9/10 [21:34<02:09, 129.32s/it]"
     ]
    },
    {
     "name": "stdout",
     "output_type": "stream",
     "text": [
      "Training RMSE:  5.7506112577072654 Testing RMSE:  71.16385003943756\n",
      "Best using:  {'n_estimators': 191, 'max_features': 'sqrt', 'max_depth': 31} Score:  -73.46909608921402\n"
     ]
    },
    {
     "name": "stderr",
     "output_type": "stream",
     "text": [
      "100%|█████████████████████████████████████████████████████████████████████████████████████████████████████████████████████████████████████████████████████████████████████████████████████████| 10/10 [24:02<00:00, 144.24s/it]"
     ]
    },
    {
     "name": "stdout",
     "output_type": "stream",
     "text": [
      "Training RMSE:  2.132407021622937e-07 Testing RMSE:  76.62837236675169\n"
     ]
    },
    {
     "name": "stderr",
     "output_type": "stream",
     "text": [
      "\n"
     ]
    }
   ],
   "source": [
    "# normal Random Forest and Decision Tree with train set and validation set\n",
    "\n",
    "data_dir = \"/home/asim/ssriva59/setup-stuff/gateway_and_dataset\"\n",
    "datasets = [\n",
    "    # \"Facebook_data\", # -> done,\n",
    "    # \"Features_TestSet\", # -> done,\n",
    "    # \"House_Price_Adv_Regression\", # -> done,\n",
    "    # \"Instant_Liking\",\n",
    "    # \"Insurance\", # -> done,\n",
    "    # \"Isolet\",\n",
    "    # \"new_data_trans\", # -> done,\n",
    "    # \"OnlineNewsPopularity\", # -> done,\n",
    "    # \"ParkinsonData\", # -> done,\n",
    "    # \"Sberbank_Russian_Housing_Market\", # -> done, Gradiant Boosting remains\n",
    "    # \"slice_localization_data\", # -> done,\n",
    "    # \"Telecom_data\", # -> done,\n",
    "    # \"yearMSD_new\", # -> done,\n",
    "    # \"arrhythmia\", # -> done,\n",
    "    # \"Big_mart_sales\", # -> done,\n",
    "    # \"blogData\", # -> done\n",
    "    # \"communities\", # -> done,\n",
    "    # \"dengue_features\", # -> done,\n",
    "    # \"ECG0_p02\", # -> done,\n",
    "    # \"ENERGY_DATA_COMPLETE\", # -> done\n",
    "]\n",
    "\n",
    "x_column_drop = {\n",
    "    \"Facebook_data\": ['Unnamed: 0', 'Total.Interactions'],\n",
    "    \"Features_TestSet\": ['Unnamed: 0', 'Target'],\n",
    "    \"House_Price_Adv_Regression\": ['Unnamed: 0', 'SalePrice'],\n",
    "    # \"Instant_Liking\": ['Instant.Liking'] -> NaN needs to be fixed,\n",
    "    \"Insurance\": ['Unnamed: 0', 'charges'],\n",
    "    \"Isolet\": ['Unnamed: 0', 'Target'], # -> some random error, need to see,\n",
    "    \"new_data_trans\": ['Unnamed: 0', 'X23.Humedad_Exterior_Sensor'],\n",
    "    \"OnlineNewsPopularity\": ['Unnamed: 0', 'shares'],\n",
    "    \"ParkinsonData\": ['Unnamed: 0', 'total_UPDRS'],\n",
    "    \"Sberbank_Russian_Housing_Market\": ['Unnamed: 0', 'price_doc'],\n",
    "    \"slice_localization_data\": ['Unnamed: 0', 'reference'],\n",
    "    \"Telecom_data\": ['Unnamed: 0', 'Churned.Label'],\n",
    "    \"yearMSD_new\": ['Unnamed: 0', 'Year'],\n",
    "    \"arrhythmia\": ['Unnamed: 0', 'Defection'],\n",
    "    \"Big_mart_sales\": ['Unnamed: 0', 'Item_Outlet_Sales'],\n",
    "    \"blogData\": ['Unnamed: 0', 'Comments'],\n",
    "    \"communities\": ['Unnamed: 0','ViolentCrimesPerPop'],\n",
    "    \"dengue_features\": ['Unnamed: 0','total_cases'],\n",
    "    \"ECG0_p02\": ['Unnamed: 0', 'CurrentValue'],\n",
    "    \"ENERGY_DATA_COMPLETE\": ['Unnamed: 0', 'Appliances']\n",
    "}\n",
    "\n",
    "target_column = {\n",
    "    \"Facebook_data\": ['Total.Interactions'],\n",
    "    \"Features_TestSet\": ['Target'],\n",
    "    \"House_Price_Adv_Regression\": ['SalePrice'],\n",
    "    # \"Instant_Liking\": ['Instant.Liking'] -> NaN needs to be fixed,\n",
    "    \"Insurance\": ['charges'],\n",
    "    \"Isolet\": ['Target'], # -> some random error, need to see,\n",
    "    \"new_data_trans\": ['X23.Humedad_Exterior_Sensor'],\n",
    "    \"OnlineNewsPopularity\": ['shares'],\n",
    "    \"ParkinsonData\": ['total_UPDRS'],\n",
    "    \"Sberbank_Russian_Housing_Market\": ['price_doc'],\n",
    "    \"slice_localization_data\": ['reference'],\n",
    "    \"Telecom_data\": ['Churned.Label'],\n",
    "    \"yearMSD_new\": ['Year'],\n",
    "    \"arrhythmia\": ['Defection'],\n",
    "    \"Big_mart_sales\": ['Item_Outlet_Sales'],\n",
    "    \"blogData\": ['Comments'],\n",
    "    \"communities\": ['ViolentCrimesPerPop'],\n",
    "    \"dengue_features\": ['total_cases'],\n",
    "    \"ECG0_p02\": ['CurrentValue'],\n",
    "    \"ENERGY_DATA_COMPLETE\": ['Appliances']\n",
    "}\n",
    "\n",
    "# dataset = \"Big_mart_sales\"\n",
    "seeds = [1, 50, 100, 150, 200, 250, 300, 350, 400, 450]\n",
    "\n",
    "# For RF\n",
    "# for index, dataset in enumerate(datasets):\n",
    "#     df = pd.DataFrame()\n",
    "#     print(dataset)\n",
    "#     for seed in tqdm(seeds):\n",
    "#         csv_path_train = os.path.join(data_dir, dataset, \"Train\", dataset + '_seed_' + str(seed) + '_train.csv')\n",
    "#         csv_path_validation = os.path.join(data_dir, dataset, \"Train\", dataset + '_seed_' + str(seed) + '_validation.csv')\n",
    "#         csv_path_test = os.path.join(data_dir, dataset, \"Test\", dataset + '_Test_seed' + str(seed) + '_modified.csv')\n",
    "#         df_test = pd.read_csv(csv_path_test)\n",
    "        \n",
    "#         # print(csv_path_train, csv_path_test)\n",
    "        \n",
    "#         X_test = df_test.drop(x_column_drop[dataset], axis = 1)\n",
    "#         y_test = df_test[target_column[dataset]]\n",
    "        \n",
    "#         details = {\n",
    "#             'dataset': dataset,\n",
    "#             'seed': str(seed)\n",
    "#         }\n",
    "        \n",
    "#         # For RF\n",
    "#         model_RF = RF_pred(csv_path_train, csv_path_validation, x_column_drop[dataset], target_column[dataset], details)\n",
    "        \n",
    "#         importances = model_RF.feature_importances_\n",
    "#         indices = np.argsort(importances)[::-1]\n",
    "#         top_k = 10\n",
    "#         top_indices = indices[:top_k]\n",
    "#         details['best_feature_list'] = np.array(X_test.columns)[indices][0:top_k]\n",
    "        \n",
    "#         y_pred = model_RF.predict(X_test)\n",
    "#         validation_rmse = mean_squared_error(y_test, y_pred, squared=False)\n",
    "#         details['validation_rmse'] = validation_rmse\n",
    "        \n",
    "#         df = df.append(details, ignore_index=True)\n",
    "#         filepath = Path(dataset + '_RF.csv')\n",
    "#         filepath.parent.mkdir(parents=True, exist_ok=True)\n",
    "#         df.to_csv(filepath, index=False)\n",
    "\n",
    "# For DT\n",
    "# for index, dataset in enumerate(datasets):\n",
    "#     df = pd.DataFrame()\n",
    "#     print(dataset)\n",
    "#     for seed in tqdm(seeds):\n",
    "#         csv_path_train = os.path.join(data_dir, dataset, \"Train\", dataset + '_seed_' + str(seed) + '_train.csv')\n",
    "#         csv_path_validation = os.path.join(data_dir, dataset, \"Train\", dataset + '_seed_' + str(seed) + '_validation.csv')\n",
    "#         csv_path_test = os.path.join(data_dir, dataset, \"Test\", dataset + '_Test_seed' + str(seed) + '_modified.csv')\n",
    "#         df_test = pd.read_csv(csv_path_test)\n",
    "        \n",
    "#         # print(csv_path_train, csv_path_test)\n",
    "        \n",
    "#         X_test = df_test.drop(x_column_drop[dataset], axis = 1)\n",
    "#         y_test = df_test[target_column[dataset]]\n",
    "        \n",
    "#         details = {\n",
    "#             'dataset': dataset,\n",
    "#             'seed': str(seed)\n",
    "#         }\n",
    "        \n",
    "#         # For DT\n",
    "#         model_DT = DT_pred(csv_path_train, csv_path_validation, x_column_drop[dataset], target_column[dataset], details)\n",
    "        \n",
    "#         importances = model_DT.feature_importances_\n",
    "#         indices = np.argsort(importances)[::-1]\n",
    "#         top_k = 10\n",
    "#         top_indices = indices[:top_k]\n",
    "#         details['best_feature_list'] = np.array(X_test.columns)[indices][0:top_k]\n",
    "        \n",
    "#         y_pred = model_DT.predict(X_test)\n",
    "#         validation_rmse = mean_squared_error(y_test, y_pred, squared=False)\n",
    "#         details['validation_rmse'] = validation_rmse\n",
    "        \n",
    "#         df = df.append(details, ignore_index=True)\n",
    "#         filepath = Path(dataset + '_DT.csv')\n",
    "#         filepath.parent.mkdir(parents=True, exist_ok=True)\n",
    "#         df.to_csv(filepath, index=False)\n",
    "\n",
    "# For GB\n",
    "for index, dataset in enumerate(datasets):\n",
    "    df = pd.DataFrame()\n",
    "    print(dataset)\n",
    "    for seed in tqdm(seeds):\n",
    "        csv_path_train = os.path.join(data_dir, dataset, \"Train\", dataset + '_seed_' + str(seed) + '_train.csv')\n",
    "        csv_path_validation = os.path.join(data_dir, dataset, \"Train\", dataset + '_seed_' + str(seed) + '_validation.csv')\n",
    "        csv_path_test = os.path.join(data_dir, dataset, \"Test\", dataset + '_Test_seed' + str(seed) + '_modified.csv')\n",
    "        df_test = pd.read_csv(csv_path_test)\n",
    "        \n",
    "        # print(csv_path_train, csv_path_test)\n",
    "        \n",
    "        X_test = df_test.drop(x_column_drop[dataset], axis = 1)\n",
    "        y_test = df_test[target_column[dataset]]\n",
    "        \n",
    "        details = {\n",
    "            'dataset': dataset,\n",
    "            'seed': str(seed)\n",
    "        }\n",
    "        \n",
    "        # For GB\n",
    "        model_GB = GB_pred(csv_path_train, csv_path_validation, x_column_drop[dataset], target_column[dataset], details)\n",
    "        \n",
    "        importances = model_GB.feature_importances_\n",
    "        indices = np.argsort(importances)[::-1]\n",
    "        top_k = 10\n",
    "        top_indices = indices[:top_k]\n",
    "        details['best_feature_list'] = np.array(X_test.columns)[indices][0:top_k]\n",
    "        \n",
    "        y_pred = model_GB.predict(X_test)\n",
    "        validation_rmse = mean_squared_error(y_test, y_pred, squared=False)\n",
    "        details['validation_rmse'] = validation_rmse\n",
    "        \n",
    "        df = df.append(details, ignore_index=True)\n",
    "        filepath = Path(dataset + '_GB.csv')\n",
    "        filepath.parent.mkdir(parents=True, exist_ok=True)\n",
    "        df.to_csv(filepath, index=False)"
   ]
  },
  {
   "cell_type": "code",
   "execution_count": null,
   "id": "0970bc71",
   "metadata": {},
   "outputs": [],
   "source": [
    "# normal Random Forest with k fold -> do not need this\n",
    "\n",
    "data_dir = \"/home/asim/ssriva59/setup-stuff/gateway_and_dataset\"\n",
    "datasets = [\n",
    "    # \"Facebook_data\",\n",
    "    # \"Features_TestSet\",\n",
    "    # \"House_Price_Adv_Regression\",\n",
    "    # \"Instant_Liking\",\n",
    "    # \"Insurance\",\n",
    "    # \"Isolet\",\n",
    "    # \"new_data_trans\",\n",
    "    # \"OnlineNewsPopularity\",\n",
    "    \"ParkinsonData\",\n",
    "    # \"Sberbank_Russian_Housing_Market\",\n",
    "    # \"slice_localization_data\",\n",
    "    # \"Telecom_data\",\n",
    "    # \"yearMSD_new\",\n",
    "    # \"arrhythmia\",\n",
    "    # \"Big_mart_sales\",\n",
    "    # \"blogData\",\n",
    "    # \"communities\",\n",
    "    # \"dengue_features\",\n",
    "    # \"ECG0_p02\",\n",
    "    # \"ENERGY_DATA_COMPLETE\"\n",
    "]\n",
    "\n",
    "x_column_drop = {\n",
    "    # \"Facebook_data\": ['Total.Interactions'],\n",
    "    # \"Features_TestSet\": ['Unnamed: 0', 'Target'],\n",
    "    # \"House_Price_Adv_Regression\": ['SalePrice'],\n",
    "    # \"Instant_Liking\": ['Instant.Liking'] -> NaN needs to be fixed,\n",
    "    # \"Insurance\": ['charges'],\n",
    "    # \"Isolet\": ['Target'] -> some random error, need to see,\n",
    "    # \"new_data_trans\": ['X23.Humedad_Exterior_Sensor'],\n",
    "    # \"OnlineNewsPopularity\": ['shares'],\n",
    "    \"ParkinsonData\": ['Unnamed: 0','total_UPDRS'],\n",
    "    \"Sberbank_Russian_Housing_Market\": ['Unnamed: 0', 'price_doc'],\n",
    "    \"slice_localization_data\": ['Unnamed: 0', 'reference'],\n",
    "    # \"Telecom_data\": ['Churned.Label'],\n",
    "    # \"yearMSD_new\": ['Year'],\n",
    "    # \"arrhythmia\": ['Defection'],\n",
    "    # \"Big_mart_sales\": ['Item_Outlet_Sales'],\n",
    "    # \"blogData\": ['Comments'],\n",
    "    # \"communities\": ['ViolentCrimesPerPop'],\n",
    "    # \"dengue_features\": ['total_cases'],\n",
    "    # \"ECG0_p02\": ['CurrentValue'],\n",
    "    # \"ENERGY_DATA_COMPLETE\": ['Appliances']\n",
    "}\n",
    "\n",
    "target_column = {\n",
    "    # \"Facebook_data\": ['Total.Interactions'],\n",
    "    # \"Features_TestSet\": ['Target'],\n",
    "    # \"House_Price_Adv_Regression\": ['SalePrice'],\n",
    "    # \"Instant_Liking\": ['Instant.Liking'] -> NaN needs to be fixed,\n",
    "    # \"Insurance\": ['charges'],\n",
    "    # \"Isolet\": ['Target'] -> some random error, need to see,\n",
    "    # \"new_data_trans\": ['X23.Humedad_Exterior_Sensor'],\n",
    "    # \"OnlineNewsPopularity\": ['shares'],\n",
    "    \"ParkinsonData\": ['total_UPDRS'],\n",
    "    \"Sberbank_Russian_Housing_Market\": ['price_doc'],\n",
    "    \"slice_localization_data\": ['reference'],\n",
    "    # \"Telecom_data\": ['Churned.Label'],\n",
    "    # \"yearMSD_new\": ['Year'],\n",
    "    # \"arrhythmia\": ['Defection'],\n",
    "    # \"Big_mart_sales\": ['Item_Outlet_Sales'],\n",
    "    # \"blogData\": ['Comments'],\n",
    "    # \"communities\": ['ViolentCrimesPerPop'],\n",
    "    # \"dengue_features\": ['total_cases'],\n",
    "    # \"ECG0_p02\": ['CurrentValue'],\n",
    "    # \"ENERGY_DATA_COMPLETE\": ['Appliances']\n",
    "}\n",
    "\n",
    "# dataset = \"Big_mart_sales\"\n",
    "seeds = [1, 50, 100, 150, 200, 250, 300, 350, 400, 450]\n",
    "\n",
    "for index, dataset in enumerate(datasets):\n",
    "    df = pd.DataFrame()\n",
    "    print(dataset)\n",
    "    for seed in tqdm(seeds):\n",
    "        csv_path_train = os.path.join(data_dir, dataset, \"Train\", dataset + '_Train_seed' + str(seed) + '_modified.csv')\n",
    "        df_train = pd.read_csv(csv_path_train)\n",
    "        csv_path_test = os.path.join(data_dir, dataset, \"Test\", dataset + '_Test_seed' + str(seed) + '_modified.csv')\n",
    "        df_test = pd.read_csv(csv_path_test)\n",
    "        \n",
    "        X = df_train.drop(x_column_drop[dataset], axis = 1)\n",
    "        y = df_train[target_column[dataset]]\n",
    "        X_test = df_test.drop(x_column_drop[dataset], axis = 1)\n",
    "        y_test = df_test[target_column[dataset]]\n",
    "        \n",
    "        details = {\n",
    "            'dataset': dataset,\n",
    "            'seed': str(seed)\n",
    "        }\n",
    "        \n",
    "        model_DT = DT_pred(X, y, details)\n",
    "        model_RF = RF_pred_kfold(X, y, details)\n",
    "        \n",
    "        importances = model_RF.feature_importances_\n",
    "        indices = np.argsort(importances)[::-1]\n",
    "        top_k = 10\n",
    "        top_indices = indices[:top_k]\n",
    "        details['best_feature_list'] = np.array(X.columns)[indices][0:top_k]\n",
    "        \n",
    "        y_pred = model_RF.predict(X_test)\n",
    "        validation_rmse = mean_squared_error(y_test, y_pred, squared=False)\n",
    "        details['validation_rmse'] = validation_rmse\n",
    "        \n",
    "        df = df.append(details, ignore_index=True)\n",
    "        filepath = Path(dataset + '_RF_kfold.csv')\n",
    "        filepath.parent.mkdir(parents=True, exist_ok=True)\n",
    "        df.to_csv(filepath, index=False)"
   ]
  },
  {
   "cell_type": "code",
   "execution_count": null,
   "id": "6a9c6e9c-bb09-4d71-bd8a-c655fe7cb084",
   "metadata": {},
   "outputs": [],
   "source": [
    "# Split dataset into training and validation sets\n",
    "\n",
    "data_dir = \"/home/asim/ssriva59/setup-stuff/gateway_and_dataset\"\n",
    "datasets = [\n",
    "    # \"Facebook_data\",\n",
    "    # \"Features_TestSet\",\n",
    "    # \"House_Price_Adv_Regression\",\n",
    "    # \"Instant_Liking\",\n",
    "    # \"Insurance\",\n",
    "    \"Isolet\",\n",
    "    # \"new_data_trans\",\n",
    "    # \"OnlineNewsPopularity\",\n",
    "    # \"ParkinsonData\",\n",
    "    # \"Sberbank_Russian_Housing_Market\",\n",
    "    # \"slice_localization_data\",\n",
    "    # \"Telecom_data\",\n",
    "    # \"yearMSD_new\",\n",
    "    # \"arrhythmia\",\n",
    "    # \"Big_mart_sales\",\n",
    "    # \"blogData\",\n",
    "    # \"communities\",\n",
    "    # \"dengue_features\",\n",
    "    # \"ECG0_p02\",\n",
    "    # \"ENERGY_DATA_COMPLETE\"\n",
    "]\n",
    "\n",
    "train_split = 0.8\n",
    "\n",
    "seeds = [1, 50, 100, 150, 200, 250, 300, 350, 400, 450]\n",
    "\n",
    "for index, dataset in enumerate(datasets):\n",
    "    df = pd.DataFrame()\n",
    "    print(dataset)\n",
    "    for seed in tqdm(seeds):\n",
    "        data = []\n",
    "        # print(os.path.join(data_dir, dataset, \"Train\", dataset + '_Train_seed' + str(seed) + '_modified.csv'))\n",
    "        for each_line in open(os.path.join(data_dir, dataset, \"Train\", dataset + '_Train_seed' + str(seed) + '_modified.csv')):\n",
    "            each_line = each_line.strip().split(',')\n",
    "            data.append(each_line)\n",
    "            \n",
    "        headers = data.pop(0)\n",
    "        \n",
    "        random.shuffle(data)\n",
    "        \n",
    "        train_datapoints = int(train_split * len(data))\n",
    "        train_set = [headers] + data[:train_datapoints]\n",
    "        validation_set = [headers] + data[train_datapoints:]\n",
    "        \n",
    "        train_set_df = pd.DataFrame(train_set)\n",
    "        train_set_df.to_csv(os.path.join(data_dir, dataset, \"Train\", dataset + '_seed_' + str(seed) + '_train.csv'), index=False, header=False)\n",
    "        \n",
    "        validation_set_df = pd.DataFrame(validation_set)\n",
    "        validation_set_df.to_csv(os.path.join(data_dir, dataset, \"Train\", dataset + '_seed_' + str(seed) + '_validation.csv'), index=False, header=False)\n",
    "        "
   ]
  },
  {
   "cell_type": "code",
   "execution_count": null,
   "id": "4bf58720-9577-469e-a0cb-eaf5a1d64642",
   "metadata": {},
   "outputs": [],
   "source": [
    "# dataset normalization\n",
    "from sklearn.preprocessing import MinMaxScaler\n",
    "\n",
    "data_dir = \"/home/asim/ssriva59/setup-stuff/gateway_and_dataset\"\n",
    "datasets = [\n",
    "    # \"Facebook_data\",\n",
    "    # \"Features_TestSet\",\n",
    "    # \"House_Price_Adv_Regression\",\n",
    "    # \"Instant_Liking\",\n",
    "    # \"Insurance\",\n",
    "    # \"Isolet\",\n",
    "    # \"new_data_trans\",\n",
    "    # \"OnlineNewsPopularity\",\n",
    "    \"ParkinsonData\",\n",
    "    # \"Sberbank_Russian_Housing_Market\",\n",
    "    # \"slice_localization_data\",\n",
    "    # \"Telecom_data\",\n",
    "    # \"yearMSD_new\",\n",
    "    # \"arrhythmia\",\n",
    "    # \"Big_mart_sales\",\n",
    "    # \"blogData\",\n",
    "    # \"communities\",\n",
    "    # \"dengue_features\",\n",
    "    # \"ECG0_p02\",\n",
    "    # \"ENERGY_DATA_COMPLETE\"\n",
    "]\n",
    "\n",
    "seeds = [1, 50, 100, 150, 200, 250, 300, 350, 400, 450]\n",
    "\n",
    "for index, dataset in enumerate(datasets):\n",
    "    df = pd.DataFrame()\n",
    "    print(dataset)\n",
    "    for seed in tqdm(seeds):\n",
    "        csv_path_train = os.path.join(data_dir, dataset, \"Train\", dataset + '_seed_' + str(seed) + '_train.csv')\n",
    "        csv_path_validation = os.path.join(data_dir, dataset, \"Train\", dataset + '_seed_' + str(seed) + '_validation.csv')\n",
    "        csv_path_test = os.path.join(data_dir, dataset, \"Test\", dataset + '_Test_seed' + str(seed) + '_modified.csv')\n",
    "        \n",
    "        train_set = []\n",
    "        for each_line in open(csv_path_train):\n",
    "            each_line = each_line.strip().split(',')\n",
    "            train_set.append(each_line)\n",
    "        headers = train_set.pop(0)\n",
    "        \n",
    "        validation_set = []\n",
    "        for each_line in open(csv_path_validation):\n",
    "            each_line = each_line.strip().split(',')\n",
    "            validation_set.append(each_line)\n",
    "        validation_set.pop(0)\n",
    "        \n",
    "        test_set = []\n",
    "        for each_line in open(csv_path_test):\n",
    "            each_line = each_line.strip().split(',')\n",
    "            test_set.append(each_line)\n",
    "        test_set.pop(0)\n",
    "        \n",
    "        scaler = MinMaxScaler()\n",
    "        train_set = [headers] + scaler.fit_transform(train_set).tolist()        \n",
    "        validation_set = [headers] + scaler.transform(validation_set).tolist()\n",
    "        test_set = [headers] + scaler.transform(test_set).tolist()\n",
    "        \n",
    "        train_set_df = pd.DataFrame(train_set)\n",
    "        train_set_df.to_csv(os.path.join(data_dir, dataset, \"Train\", dataset + '_seed_' + str(seed) + '_train_normalized.csv'), index=False, header=False)\n",
    "        \n",
    "        validation_set_df = pd.DataFrame(validation_set)\n",
    "        validation_set_df.to_csv(os.path.join(data_dir, dataset, \"Train\", dataset + '_seed_' + str(seed) + '_validation_normalized.csv'), index=False, header=False)\n",
    "        \n",
    "        test_set_df = pd.DataFrame(test_set)\n",
    "        test_set_df.to_csv(os.path.join(data_dir, dataset, \"Test\", dataset + '_seed_' + str(seed) + '_test_normalized.csv'), index=False, header=False)"
   ]
  },
  {
   "cell_type": "code",
   "execution_count": null,
   "id": "2bdb330a",
   "metadata": {},
   "outputs": [],
   "source": [
    "data_dir = \"/home/asim/ssriva59/setup-stuff/gateway_and_dataset\"\n",
    "dataset = \"arrhythmia\"\n",
    "seeds = [1, 50, 100, 150, 200, 250, 300, 350, 400, 450]\n",
    "\n",
    "for s in tqdm(seeds):\n",
    "    csv_path_train = os.path.join(data_dir, dataset, \"Train\", dataset + '_Train_seed' + str(s) + '_modified.csv')\n",
    "    df_train = pd.read_csv(csv_path_train)\n",
    "    csv_path_test = os.path.join(data_dir, dataset, \"Test\", dataset + '_Test_seed' + str(s) + '_modified.csv')\n",
    "    df_test = pd.read_csv(csv_path_test)\n",
    "    X = df_train.drop(['Defection'], axis = 1)\n",
    "    y = df_train[['Defection']]\n",
    "    model_DT = DT_pred(X, y)\n",
    "    \n",
    "    model_RF = RF_pred(X, y)\n",
    "    importances = model_RF.feature_importances_\n",
    "    indices = np.argsort(importances)[::-1]\n",
    "    top_k = 10\n",
    "    top_indices = indices[:top_k]\n",
    "    \n",
    "    print(\"Feature_importance: \\n\")\n",
    "    print(np.array(X.columns)[indices][0:top_k])\n",
    "    print(importances[top_indices])\n"
   ]
  },
  {
   "cell_type": "code",
   "execution_count": null,
   "id": "547aaa15-c28c-4a92-a163-12056d927431",
   "metadata": {},
   "outputs": [],
   "source": [
    "# Just need to drop one column and replace with a one-hot encoding\n",
    "\n",
    "def process_big_mart(df_train):\n",
    "    dummies = pd.get_dummies(df_train.Type)\n",
    "    df_train = pd.concat([df_train, dummies], axis='columns')\n",
    "    df_train = df_train.drop(['Type'], axis='columns')\n",
    "    return df_train\n",
    "\n",
    "def get_missing():\n",
    "    missingValueColumns = datafrm.columns[datafrm.isnull().any()].tolist()\n",
    "    percent_missing = datafrm[missingValueColumns].isnull().sum()\n",
    "    print(\"Missing value count columnwise:\")\n",
    "    print(percent_missing)\n",
    "\n",
    "\n",
    "\n",
    "data_dir = \"/home/asim/ssriva59/setup-stuff/gateway_and_dataset\"\n",
    "dataset = \"Facebook_data\"\n",
    "\n",
    "seeds = [50, 100, 150, 200, 250, 300, 350, 400, 450]\n",
    "for s in tqdm(seeds):\n",
    "    csv_path_train = os.path.join(data_dir, dataset, \"Train\", dataset + '_Train_seed' + str(s) + '.csv')\n",
    "    df_train = pd.read_csv(csv_path_train)\n",
    "    csv_path_test = os.path.join(data_dir, dataset, \"Test\", dataset + '_Test_seed' + str(s) + '.csv')\n",
    "    df_test = pd.read_csv(csv_path_test)\n",
    "    \n",
    "    df_train = process_big_mart(df_train)\n",
    "    df_test = process_big_mart(df_test)\n",
    "    df_train.to_csv(os.path.join(data_dir, dataset, \"Train\", dataset + '_Train_seed' + str(s) + '_modified.csv'), index=False)\n",
    "    df_test.to_csv(os.path.join(data_dir, dataset, \"Test\", dataset + '_Test_seed' + str(s) + '_modified.csv'), index=False)\n",
    "    "
   ]
  },
  {
   "cell_type": "code",
   "execution_count": null,
   "id": "b7b31145-c0cc-43df-b324-1fe820398815",
   "metadata": {},
   "outputs": [],
   "source": [
    "# No preprocessing required here\n",
    "\n",
    "def process_big_mart(df_train):\n",
    "    return df_train\n",
    "\n",
    "def get_missing():\n",
    "    missingValueColumns = datafrm.columns[datafrm.isnull().any()].tolist()\n",
    "    percent_missing = datafrm[missingValueColumns].isnull().sum()\n",
    "    print(\"Missing value count columnwise:\")\n",
    "    print(percent_missing)\n",
    "\n",
    "\n",
    "\n",
    "data_dir = \"/home/asim/ssriva59/setup-stuff/gateway_and_dataset\"\n",
    "dataset = \"Features_TestSet\"\n",
    "\n",
    "seeds = [1, 50, 100, 150, 200, 250, 300, 350, 400, 450]\n",
    "for s in tqdm(seeds):\n",
    "    csv_path_train = os.path.join(data_dir, dataset, \"Train\", dataset + '_Train_seed' + str(s) + '.csv')\n",
    "    df_train = pd.read_csv(csv_path_train)\n",
    "    csv_path_test = os.path.join(data_dir, dataset, \"Test\", dataset + '_Test_seed' + str(s) + '.csv')\n",
    "    df_test = pd.read_csv(csv_path_test)\n",
    "    \n",
    "    df_train = process_big_mart(df_train)\n",
    "    df_test = process_big_mart(df_test)\n",
    "    df_train.to_csv(os.path.join(data_dir, dataset, \"Train\", dataset + '_Train_seed' + str(s) + '_modified.csv'), index=False)\n",
    "    df_test.to_csv(os.path.join(data_dir, dataset, \"Test\", dataset + '_Test_seed' + str(s) + '_modified.csv'), index=False)"
   ]
  },
  {
   "cell_type": "code",
   "execution_count": null,
   "id": "11b3e32c-ed73-425f-ba89-c73620319b36",
   "metadata": {},
   "outputs": [],
   "source": []
  }
 ],
 "metadata": {
  "kernelspec": {
   "display_name": "Python 3 (ipykernel)",
   "language": "python",
   "name": "python3"
  },
  "language_info": {
   "codemirror_mode": {
    "name": "ipython",
    "version": 3
   },
   "file_extension": ".py",
   "mimetype": "text/x-python",
   "name": "python",
   "nbconvert_exporter": "python",
   "pygments_lexer": "ipython3",
   "version": "3.8.10"
  }
 },
 "nbformat": 4,
 "nbformat_minor": 5
}
